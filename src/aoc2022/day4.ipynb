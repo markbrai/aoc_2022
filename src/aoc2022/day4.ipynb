{
 "cells": [
  {
   "cell_type": "markdown",
   "metadata": {},
   "source": [
    "# Advent of Code 2022 - Day 4"
   ]
  },
  {
   "cell_type": "markdown",
   "metadata": {},
   "source": [
    "## Part One\n",
    "\n",
    "- Import input and split in to lines\n",
    "- For each line:\n",
    "  - Strip \"\\n\" and split by ','\n",
    "  - Split each half by '-' and assign as min/max of range\n",
    "  - Perform a set intersection\n",
    "    - If len(intersection) is == min length of the two lists then contained"
   ]
  },
  {
   "cell_type": "markdown",
   "metadata": {},
   "source": [
    "Import input in to lines"
   ]
  },
  {
   "cell_type": "code",
   "execution_count": 7,
   "metadata": {},
   "outputs": [],
   "source": [
    "from pathlib import Path\n",
    "\n",
    "input_path = Path.cwd() / \"input\" / \"day4_input.txt\"\n",
    "\n",
    "with open(input_path, \"r\") as input_file:\n",
    "    \n",
    "    lines = input_file.readlines()"
   ]
  },
  {
   "cell_type": "markdown",
   "metadata": {},
   "source": [
    "Function to split each line in to the two elves"
   ]
  },
  {
   "cell_type": "code",
   "execution_count": 8,
   "metadata": {},
   "outputs": [],
   "source": [
    "from typing import Tuple\n",
    "def strip_and_split(line:str) -> Tuple[str, str]:\n",
    "    \n",
    "    return line.rstrip(\"\\n\").split(\",\")"
   ]
  },
  {
   "cell_type": "markdown",
   "metadata": {},
   "source": [
    "Function to convert an 'elf' in to a range"
   ]
  },
  {
   "cell_type": "code",
   "execution_count": 15,
   "metadata": {},
   "outputs": [],
   "source": [
    "def elf_to_range_ends(elf:str) -> Tuple[int, int]:\n",
    "    \n",
    "    range = elf.split(\"-\")\n",
    "    \n",
    "    return [int(end) for end in range]"
   ]
  },
  {
   "cell_type": "markdown",
   "metadata": {},
   "source": [
    "Create a range from the two end points"
   ]
  },
  {
   "cell_type": "code",
   "execution_count": 11,
   "metadata": {},
   "outputs": [],
   "source": [
    "from typing import Set\n",
    "def create_range(start: int, stop: int) -> Set[int]:\n",
    "    # Remember to add + 1 to the stop so it's inclusive!\n",
    "    stop = stop + 1\n",
    "    \n",
    "    section_range = set(range(start, stop))\n",
    "    \n",
    "    return section_range\n",
    "    "
   ]
  },
  {
   "cell_type": "markdown",
   "metadata": {},
   "source": [
    "Intersect the two ranges"
   ]
  },
  {
   "cell_type": "code",
   "execution_count": 17,
   "metadata": {},
   "outputs": [],
   "source": [
    "def check_overlap(range1: Set[int], range2: Set[int]) -> bool:\n",
    "    \"\"\"Returns True if a range fully overlaps with the other\"\"\"\n",
    "    \n",
    "    range1_length, range2_length = len(range1), len(range2)\n",
    "    min_length = min(range1_length, range2_length)\n",
    "    \n",
    "    intersect = set.intersection(range1, range2)\n",
    "    \n",
    "    return len(intersect) >= min_length"
   ]
  },
  {
   "cell_type": "code",
   "execution_count": 18,
   "metadata": {},
   "outputs": [],
   "source": [
    "def put_it_together(line:str) -> bool:\n",
    "    \n",
    "    elves = strip_and_split(line)\n",
    "    elf_sections = []\n",
    "    for idx, elf in enumerate(elves):\n",
    "        start, stop = elf_to_range_ends(elf)\n",
    "        elf_sections.append(create_range(start, stop))\n",
    "        \n",
    "    return check_overlap(*elf_sections)"
   ]
  },
  {
   "cell_type": "markdown",
   "metadata": {},
   "source": [
    "Test run"
   ]
  },
  {
   "cell_type": "code",
   "execution_count": 20,
   "metadata": {},
   "outputs": [
    {
     "data": {
      "text/plain": [
       "False"
      ]
     },
     "execution_count": 20,
     "metadata": {},
     "output_type": "execute_result"
    }
   ],
   "source": [
    "put_it_together('2-4,6-8')"
   ]
  },
  {
   "cell_type": "markdown",
   "metadata": {},
   "source": [
    "With input"
   ]
  },
  {
   "cell_type": "code",
   "execution_count": 25,
   "metadata": {},
   "outputs": [],
   "source": [
    "import numpy as np\n",
    "\n",
    "results = np.array([])\n",
    "for line in lines:\n",
    "    \n",
    "    results = np.append(results, put_it_together(line))"
   ]
  },
  {
   "cell_type": "code",
   "execution_count": 29,
   "metadata": {},
   "outputs": [
    {
     "data": {
      "text/plain": [
       "503.0"
      ]
     },
     "execution_count": 29,
     "metadata": {},
     "output_type": "execute_result"
    }
   ],
   "source": [
    "results.sum()"
   ]
  },
  {
   "cell_type": "markdown",
   "metadata": {},
   "source": [
    "## Part Two"
   ]
  },
  {
   "cell_type": "code",
   "execution_count": 41,
   "metadata": {},
   "outputs": [],
   "source": [
    "def check_any_overlap(range1: Set[int], range2: Set[int]) -> bool:\n",
    "    \"\"\"Returns True if a range overlaps at all with the other\"\"\"\n",
    "    \n",
    "    range1_length, range2_length = len(range1), len(range2)\n",
    "    min_length = min(range1_length, range2_length)\n",
    "    \n",
    "    intersect = set.intersection(range1, range2)\n",
    "    \n",
    "    return len(intersect) > 0"
   ]
  },
  {
   "cell_type": "code",
   "execution_count": 42,
   "metadata": {},
   "outputs": [],
   "source": [
    "def put_it_together_pt2(line:str) -> bool:\n",
    "    \n",
    "    elves = strip_and_split(line)\n",
    "    elf_sections = []\n",
    "    for idx, elf in enumerate(elves):\n",
    "        start, stop = elf_to_range_ends(elf)\n",
    "        elf_sections.append(create_range(start, stop))\n",
    "        \n",
    "    return check_any_overlap(*elf_sections)"
   ]
  },
  {
   "cell_type": "markdown",
   "metadata": {},
   "source": [
    "Test run"
   ]
  },
  {
   "cell_type": "code",
   "execution_count": 43,
   "metadata": {},
   "outputs": [
    {
     "data": {
      "text/plain": [
       "False"
      ]
     },
     "execution_count": 43,
     "metadata": {},
     "output_type": "execute_result"
    }
   ],
   "source": [
    "put_it_together_pt2('2-4,6-8')"
   ]
  },
  {
   "cell_type": "markdown",
   "metadata": {},
   "source": [
    "With Input"
   ]
  },
  {
   "cell_type": "code",
   "execution_count": 44,
   "metadata": {},
   "outputs": [
    {
     "data": {
      "text/plain": [
       "827.0"
      ]
     },
     "execution_count": 44,
     "metadata": {},
     "output_type": "execute_result"
    }
   ],
   "source": [
    "pt2_results = np.array([])\n",
    "for line in lines:\n",
    "    \n",
    "    pt2_results = np.append(pt2_results, put_it_together_pt2(line))\n",
    "    \n",
    "pt2_results.sum()"
   ]
  },
  {
   "cell_type": "code",
   "execution_count": null,
   "metadata": {},
   "outputs": [],
   "source": []
  }
 ],
 "metadata": {
  "kernelspec": {
   "display_name": "Python 3.9.7 ('.venv': pipenv)",
   "language": "python",
   "name": "python3"
  },
  "language_info": {
   "codemirror_mode": {
    "name": "ipython",
    "version": 3
   },
   "file_extension": ".py",
   "mimetype": "text/x-python",
   "name": "python",
   "nbconvert_exporter": "python",
   "pygments_lexer": "ipython3",
   "version": "3.9.7"
  },
  "orig_nbformat": 4,
  "vscode": {
   "interpreter": {
    "hash": "e5efa096507a0cff1503c5d00c4a7ba6e62b391ca8e03f472b6753719703ef5b"
   }
  }
 },
 "nbformat": 4,
 "nbformat_minor": 2
}
