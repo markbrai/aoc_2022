{
 "cells": [
  {
   "cell_type": "markdown",
   "metadata": {},
   "source": [
    "# Advent of Code 2022 - Day 11"
   ]
  },
  {
   "cell_type": "markdown",
   "metadata": {},
   "source": [
    "## Part One"
   ]
  },
  {
   "cell_type": "code",
   "execution_count": 1,
   "metadata": {},
   "outputs": [],
   "source": [
    "from pathlib import Path\n",
    "from typing import List, Tuple, Dict, Any, Callable, Set\n",
    "import operator\n",
    "import math"
   ]
  },
  {
   "cell_type": "markdown",
   "metadata": {},
   "source": [
    "Read input"
   ]
  },
  {
   "cell_type": "code",
   "execution_count": 2,
   "metadata": {},
   "outputs": [],
   "source": [
    "INPUT_FILE = \"day11_input_test.txt\"\n",
    "ROUNDS =20\n",
    "WORRY_DIVIDER = 3"
   ]
  },
  {
   "cell_type": "code",
   "execution_count": 3,
   "metadata": {},
   "outputs": [],
   "source": [
    "def read_input(input_name: str) -> List[str]:\n",
    "    input_path : Path = Path.cwd() / \"input\" / input_name\n",
    "\n",
    "    with open(input_path, \"r\") as input_file:\n",
    "\n",
    "        lines : List = input_file.readlines()\n",
    "\n",
    "    return [line.lstrip().rstrip(\"\\n\") for line in lines]"
   ]
  },
  {
   "cell_type": "markdown",
   "metadata": {},
   "source": [
    "Make the Monkey class!"
   ]
  },
  {
   "cell_type": "code",
   "execution_count": 4,
   "metadata": {},
   "outputs": [],
   "source": [
    "class Monkey:\n",
    "    def __init__(\n",
    "        self,\n",
    "        index : int,\n",
    "        item_list: List[int],\n",
    "        operation_str: str,\n",
    "        test: int,\n",
    "        to_monkeys: Tuple[int, int],\n",
    "    ) -> None:\n",
    "        self.index = index\n",
    "        self.item_list = item_list\n",
    "        self.operation = self._generate_operation(operation_str)\n",
    "        self.to_monkeys = self._to_monkeys(to_monkeys)\n",
    "        self.test = test\n",
    "        self.inspected = 0\n",
    "        \n",
    "    def inspect_object(self, item: int) -> int:\n",
    "        \"\"\" Returns index of monkey to throw to \"\"\"\n",
    "        COMPONENT_1 = 0\n",
    "        OPERATOR = 1\n",
    "        COMPONENT_2 = 2\n",
    "        \n",
    "        self.inspected += 1\n",
    "        \n",
    "        component_1 = self._component_to_int(self.operation[COMPONENT_1], item)\n",
    "        component_2 = self._component_to_int(self.operation[COMPONENT_2], item)\n",
    "        \n",
    "        new = self.operation[OPERATOR](component_1, component_2)\n",
    "        \n",
    "        if WORRY_DIVIDER > 1:\n",
    "            new = math.floor(new / WORRY_DIVIDER)\n",
    "        \n",
    "        return new, self.to_monkeys[(new) % self.test == 0]\n",
    "    \n",
    "    def catch_item(self, thrown_item: int):\n",
    "        \n",
    "        self.item_list.append(thrown_item)      \n",
    "        \n",
    "    \n",
    "    def all_items_thrown(self):\n",
    "        \n",
    "        self.item_list = []  \n",
    "        \n",
    "        \n",
    "    def _component_to_int(self, component: str, item: int, ) -> int:\n",
    "        \"\"\"Returns an int\"\"\"\n",
    "        \n",
    "        if component == \"old\":\n",
    "            return item\n",
    "        else:\n",
    "            return int(component)\n",
    "\n",
    "\n",
    "    def _generate_operation(self, operation_str: str):\n",
    "        \n",
    "        component_1, operator, component_2 = operation_str.split(\" \",3)\n",
    "        \n",
    "        operator = self._get_operator(operator)\n",
    "        \n",
    "        return component_1, operator, component_2\n",
    "        \n",
    "    def _get_operator(self, operator_str):\n",
    "        \n",
    "        ops = {\n",
    "        '+' : operator.add,\n",
    "        '-' : operator.sub,\n",
    "        '*' : operator.mul,\n",
    "        '/' : operator.truediv,  # use operator.div for Python 2\n",
    "        '%' : operator.mod,\n",
    "        '^' : operator.xor,\n",
    "        }\n",
    "        \n",
    "        return ops[operator_str]\n",
    "    \n",
    "    def _to_monkeys(self, to_monkeys: Tuple[int, int]):\n",
    "        \"\"\"Flips 'to_monkeys' for bool indexing\"\"\"\n",
    "        \n",
    "        return (to_monkeys[1], to_monkeys[0])"
   ]
  },
  {
   "cell_type": "markdown",
   "metadata": {},
   "source": [
    "Add monkeys to a monkey list"
   ]
  },
  {
   "cell_type": "code",
   "execution_count": 5,
   "metadata": {},
   "outputs": [],
   "source": [
    "monkeys = []\n",
    "monkey_idx : int\n",
    "monkey_flag = False\n",
    "items = []\n",
    "operation_str : str\n",
    "test : int\n",
    "true_monkey: int\n",
    "false_monkey: int\n",
    "\n",
    "for line in read_input(INPUT_FILE):\n",
    "    \n",
    "    section=line.split(\" \")[0]\n",
    "    \n",
    "    if section == \"Monkey\":\n",
    "        monkey_flag = True\n",
    "        monkey_idx = int(line.split(\" \")[1].strip(\":\"))\n",
    "        \n",
    "    if section == \"Starting\":\n",
    "        items = [int(item) for item in line.split(\":\")[1].strip().split(\",\")]\n",
    "        \n",
    "    if section == \"Operation:\":\n",
    "        operation_str = line.split(\"=\",1)[1].strip()\n",
    "        \n",
    "    if section == \"Test:\":\n",
    "        test = int(line.split(\"by\",1)[1].strip())\n",
    "        \n",
    "    if section == \"If\":\n",
    "        true_false = line.split(\" \")[1]\n",
    "        to_monkey = int(line.split(\"monkey\",1)[1])\n",
    "        if true_false == \"true:\":\n",
    "            true_monkey = to_monkey\n",
    "        elif true_false == \"false:\":\n",
    "            monkey_flag = False\n",
    "            false_monkey = to_monkey\n",
    "            \n",
    "    if not monkey_flag and section != \"\":\n",
    "        \n",
    "        monkeys.append(Monkey(\n",
    "            monkey_idx,\n",
    "            items,\n",
    "            operation_str,\n",
    "            test,\n",
    "            (true_monkey, false_monkey)\n",
    "        ))    \n",
    "    "
   ]
  },
  {
   "cell_type": "code",
   "execution_count": null,
   "metadata": {},
   "outputs": [],
   "source": []
  },
  {
   "cell_type": "code",
   "execution_count": 6,
   "metadata": {},
   "outputs": [
    {
     "ename": "KeyboardInterrupt",
     "evalue": "",
     "output_type": "error",
     "traceback": [
      "\u001b[0;31m---------------------------------------------------------------------------\u001b[0m",
      "\u001b[0;31mKeyboardInterrupt\u001b[0m                         Traceback (most recent call last)",
      "Cell \u001b[0;32mIn[6], line 9\u001b[0m\n\u001b[1;32m      5\u001b[0m \u001b[39mfor\u001b[39;00m monkey \u001b[39min\u001b[39;00m monkeys:\n\u001b[1;32m      7\u001b[0m     \u001b[39mfor\u001b[39;00m item \u001b[39min\u001b[39;00m monkey\u001b[39m.\u001b[39mitem_list:\n\u001b[0;32m----> 9\u001b[0m         new_item, to_monkey \u001b[39m=\u001b[39m monkey\u001b[39m.\u001b[39;49minspect_object(item)\n\u001b[1;32m     10\u001b[0m         monkeys[to_monkey]\u001b[39m.\u001b[39mcatch_item(new_item)\n\u001b[1;32m     12\u001b[0m     monkey\u001b[39m.\u001b[39mall_items_thrown()\n",
      "Cell \u001b[0;32mIn[4], line 28\u001b[0m, in \u001b[0;36mMonkey.inspect_object\u001b[0;34m(self, item)\u001b[0m\n\u001b[1;32m     25\u001b[0m component_1 \u001b[39m=\u001b[39m \u001b[39mself\u001b[39m\u001b[39m.\u001b[39m_component_to_int(\u001b[39mself\u001b[39m\u001b[39m.\u001b[39moperation[COMPONENT_1], item)\n\u001b[1;32m     26\u001b[0m component_2 \u001b[39m=\u001b[39m \u001b[39mself\u001b[39m\u001b[39m.\u001b[39m_component_to_int(\u001b[39mself\u001b[39m\u001b[39m.\u001b[39moperation[COMPONENT_2], item)\n\u001b[0;32m---> 28\u001b[0m new \u001b[39m=\u001b[39m \u001b[39mself\u001b[39;49m\u001b[39m.\u001b[39;49moperation[OPERATOR](component_1, component_2)\n\u001b[1;32m     30\u001b[0m \u001b[39mif\u001b[39;00m WORRY_DIVIDER \u001b[39m>\u001b[39m \u001b[39m1\u001b[39m:\n\u001b[1;32m     31\u001b[0m     new \u001b[39m=\u001b[39m math\u001b[39m.\u001b[39mfloor(new \u001b[39m/\u001b[39m WORRY_DIVIDER)\n",
      "\u001b[0;31mKeyboardInterrupt\u001b[0m: "
     ]
    }
   ],
   "source": [
    "for round in range(0,ROUNDS):\n",
    "    \n",
    "    monkey: Monkey\n",
    "    monkeys: List[Monkey]\n",
    "    for monkey in monkeys:\n",
    "        \n",
    "        for item in monkey.item_list:\n",
    "            \n",
    "            new_item, to_monkey = monkey.inspect_object(item)\n",
    "            monkeys[to_monkey].catch_item(new_item)\n",
    "            \n",
    "        monkey.all_items_thrown()"
   ]
  },
  {
   "cell_type": "code",
   "execution_count": null,
   "metadata": {},
   "outputs": [],
   "source": [
    "import numpy as np\n",
    "\n",
    "monkey_business = np.prod(sorted([monkey.inspected for monkey in monkeys])[-2:])"
   ]
  },
  {
   "cell_type": "code",
   "execution_count": null,
   "metadata": {},
   "outputs": [],
   "source": [
    "monkey_business"
   ]
  },
  {
   "cell_type": "code",
   "execution_count": null,
   "metadata": {},
   "outputs": [],
   "source": []
  }
 ],
 "metadata": {
  "kernelspec": {
   "display_name": "Python 3.9.7 ('.venv': pipenv)",
   "language": "python",
   "name": "python3"
  },
  "language_info": {
   "codemirror_mode": {
    "name": "ipython",
    "version": 3
   },
   "file_extension": ".py",
   "mimetype": "text/x-python",
   "name": "python",
   "nbconvert_exporter": "python",
   "pygments_lexer": "ipython3",
   "version": "3.9.7"
  },
  "orig_nbformat": 4,
  "vscode": {
   "interpreter": {
    "hash": "e5efa096507a0cff1503c5d00c4a7ba6e62b391ca8e03f472b6753719703ef5b"
   }
  }
 },
 "nbformat": 4,
 "nbformat_minor": 2
}
