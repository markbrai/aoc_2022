{
 "cells": [
  {
   "cell_type": "markdown",
   "metadata": {},
   "source": [
    "# Advent of Code 2022 - Day 11"
   ]
  },
  {
   "cell_type": "markdown",
   "metadata": {},
   "source": [
    "## Part One"
   ]
  },
  {
   "cell_type": "code",
   "execution_count": 6,
   "metadata": {},
   "outputs": [],
   "source": [
    "from pathlib import Path\n",
    "from typing import List, Tuple, Dict, Any, Callable, Set\n",
    "import operator"
   ]
  },
  {
   "cell_type": "code",
   "execution_count": 33,
   "metadata": {},
   "outputs": [],
   "source": [
    "class Monkey:\n",
    "    def __init__(\n",
    "        self,\n",
    "        item_list: List[int],\n",
    "        operation_str: str,\n",
    "        test: int,\n",
    "        to_monkeys: Tuple[int, int],\n",
    "    ) -> None:\n",
    "        self.item_list = item_list\n",
    "        self.operation = self._generate_operation(operation_str)\n",
    "        self.to_monkeys = self._to_monkeys(to_monkeys)\n",
    "        self.test = test\n",
    "        \n",
    "    def inspect_object(self, item: int) -> int:\n",
    "        \"\"\" Returns index of monkey to throw to \"\"\"\n",
    "        COMPONENT_1 = 0\n",
    "        OPERATOR = 1\n",
    "        COMPONENT_2 = 2\n",
    "        \n",
    "        \n",
    "        component_1 = self._component_to_int(self.operation[COMPONENT_1], item)\n",
    "        component_2 = self._component_to_int(self.operation[COMPONENT_2], item)\n",
    "        \n",
    "        new = self.operation[OPERATOR](component_1, component_2)\n",
    "        \n",
    "        return self.to_monkeys[new % self.test == 0]\n",
    "        \n",
    "    def _component_to_int(self, component: str, item: int, ) -> int:\n",
    "        \"\"\"Returns an int\"\"\"\n",
    "        \n",
    "        if component == \"old\":\n",
    "            return item\n",
    "        else:\n",
    "            return int(component)\n",
    "            \n",
    "        \n",
    "        \n",
    "\n",
    "    def _generate_operation(self, operation_str: str):\n",
    "        \n",
    "        component_1, operator, component_2 = operation_str.split(\" \",3)\n",
    "        \n",
    "        operator = self._get_operator(operator)\n",
    "        \n",
    "        return component_1, operator, component_2\n",
    "        \n",
    "    def _get_operator(self, operator_str):\n",
    "        \n",
    "        ops = {\n",
    "        '+' : operator.add,\n",
    "        '-' : operator.sub,\n",
    "        '*' : operator.mul,\n",
    "        '/' : operator.truediv,  # use operator.div for Python 2\n",
    "        '%' : operator.mod,\n",
    "        '^' : operator.xor,\n",
    "        }\n",
    "        \n",
    "        return ops[operator_str]\n",
    "    \n",
    "    def _to_monkeys(self, to_monkeys: Tuple[int, int]):\n",
    "        \"\"\"Flips 'to_monkeys' for bool indexing\"\"\"\n",
    "        \n",
    "        return (to_monkeys[1], to_monkeys[0])"
   ]
  },
  {
   "cell_type": "code",
   "execution_count": 35,
   "metadata": {},
   "outputs": [],
   "source": [
    "test_monkey = Monkey([79,98], \"old * 19\", 23, (2,3))"
   ]
  },
  {
   "cell_type": "code",
   "execution_count": null,
   "metadata": {},
   "outputs": [],
   "source": []
  }
 ],
 "metadata": {
  "kernelspec": {
   "display_name": "Python 3.9.7 ('.venv': pipenv)",
   "language": "python",
   "name": "python3"
  },
  "language_info": {
   "codemirror_mode": {
    "name": "ipython",
    "version": 3
   },
   "file_extension": ".py",
   "mimetype": "text/x-python",
   "name": "python",
   "nbconvert_exporter": "python",
   "pygments_lexer": "ipython3",
   "version": "3.9.7"
  },
  "orig_nbformat": 4,
  "vscode": {
   "interpreter": {
    "hash": "e5efa096507a0cff1503c5d00c4a7ba6e62b391ca8e03f472b6753719703ef5b"
   }
  }
 },
 "nbformat": 4,
 "nbformat_minor": 2
}
