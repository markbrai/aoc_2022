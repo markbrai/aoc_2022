{
 "cells": [
  {
   "cell_type": "markdown",
   "metadata": {},
   "source": [
    "# Advent of Code 2022 - Day 5"
   ]
  },
  {
   "cell_type": "markdown",
   "metadata": {},
   "source": [
    "# Part One\n",
    "\n",
    "- Read input data\n",
    "    - Read stacks in to lists\n",
    "    - Read moves as strings\n"
   ]
  },
  {
   "cell_type": "markdown",
   "metadata": {},
   "source": [
    "Read input data"
   ]
  },
  {
   "cell_type": "code",
   "execution_count": 1,
   "metadata": {},
   "outputs": [],
   "source": [
    "from pathlib import Path\n",
    "\n",
    "input_path = Path.cwd() / \"input\" / \"day5_input.txt\"\n",
    "\n",
    "with open(input_path, \"r\") as input_file:\n",
    "    \n",
    "    lines = input_file.readlines()"
   ]
  },
  {
   "cell_type": "markdown",
   "metadata": {},
   "source": [
    "Split input data to the 'stacks' matrix and the 'moves' list"
   ]
  },
  {
   "cell_type": "code",
   "execution_count": 30,
   "metadata": {},
   "outputs": [],
   "source": [
    "stacks = []\n",
    "moves_input = []\n",
    "line_list = stacks\n",
    "\n",
    "for line in lines:\n",
    "    \n",
    "    # Change over to 'moves' when \"\\n\" is encountered\n",
    "    if line == \"\\n\":\n",
    "        line_list = moves_input\n",
    "    else:\n",
    "        line_list.append(line.rstrip(\"\\n\"))"
   ]
  },
  {
   "cell_type": "markdown",
   "metadata": {},
   "source": [
    "Convert stacks in to stacks..."
   ]
  },
  {
   "cell_type": "code",
   "execution_count": 40,
   "metadata": {},
   "outputs": [],
   "source": [
    "stacks_dict = {}\n",
    "\n",
    "for row in stacks:\n",
    "    \n",
    "    for idx, char in enumerate(row):\n",
    "        \n",
    "        # If the character is alphabet, then add to a list of it's position index\n",
    "        if char.isalpha():\n",
    "            if not stacks_dict.get(idx, None):\n",
    "                stacks_dict[idx] = []\n",
    "                \n",
    "            stacks_dict[idx].append(char)\n",
    "        \n",
    "        # Rename dict keys of position index to column numbers\n",
    "        elif char.isnumeric():\n",
    "            stacks_dict[int(char)] = stacks_dict.pop(idx)            "
   ]
  },
  {
   "cell_type": "markdown",
   "metadata": {},
   "source": [
    "Reverse each list"
   ]
  },
  {
   "cell_type": "code",
   "execution_count": 42,
   "metadata": {},
   "outputs": [
    {
     "data": {
      "text/plain": [
       "{1: ['F', 'T', 'C', 'L', 'R', 'P', 'G', 'Q'],\n",
       " 2: ['N', 'Q', 'H', 'W', 'R', 'F', 'S', 'J'],\n",
       " 3: ['F', 'B', 'H', 'W', 'P', 'M', 'Q'],\n",
       " 4: ['V', 'S', 'T', 'D', 'F'],\n",
       " 5: ['Q', 'L', 'D', 'W', 'V', 'F', 'Z'],\n",
       " 6: ['Z', 'C', 'L', 'S'],\n",
       " 7: ['Z', 'B', 'M', 'V', 'D', 'F'],\n",
       " 8: ['T', 'J', 'B'],\n",
       " 9: ['Q', 'N', 'B', 'G', 'L', 'S', 'P', 'H']}"
      ]
     },
     "execution_count": 42,
     "metadata": {},
     "output_type": "execute_result"
    }
   ],
   "source": [
    "for column in stacks_dict.keys():\n",
    "    \n",
    "    stacks_dict[column].reverse()\n",
    "    \n",
    "stacks_dict"
   ]
  },
  {
   "cell_type": "markdown",
   "metadata": {},
   "source": [
    "Convert moves in to individual moves"
   ]
  },
  {
   "cell_type": "code",
   "execution_count": 31,
   "metadata": {},
   "outputs": [],
   "source": [
    "moves = []\n",
    "\n",
    "for move in moves_input:\n",
    "    \n",
    "    # Split each line to (move, from, to)\n",
    "    parts = move.split(\" \")\n",
    "    move_parts = tuple([int(part) for part in parts if part.isnumeric()])\n",
    "    moves.append(move_parts)\n",
    "    "
   ]
  },
  {
   "cell_type": "markdown",
   "metadata": {},
   "source": [
    "For each move:\n",
    "- move[0] => How many moves in this move there will be\n",
    "- move[1] => Where are crates moved from\n",
    "- move[2] => Where are crates moved to"
   ]
  },
  {
   "cell_type": "code",
   "execution_count": 55,
   "metadata": {},
   "outputs": [
    {
     "ename": "IndexError",
     "evalue": "pop from empty list",
     "output_type": "error",
     "traceback": [
      "\u001b[1;31m---------------------------------------------------------------------------\u001b[0m",
      "\u001b[1;31mIndexError\u001b[0m                                Traceback (most recent call last)",
      "Cell \u001b[1;32mIn [55], line 14\u001b[0m\n\u001b[0;32m      8\u001b[0m \u001b[39m\"\"\"\u001b[39;00m\n\u001b[0;32m      9\u001b[0m \u001b[39mTo remove, use .pop(), the return of which is the crate\u001b[39;00m\n\u001b[0;32m     10\u001b[0m \u001b[39mto be added to the 'to_stack' using .append()\u001b[39;00m\n\u001b[0;32m     11\u001b[0m \u001b[39m\"\"\"\u001b[39;00m\n\u001b[0;32m     13\u001b[0m \u001b[39mfor\u001b[39;00m move_ \u001b[39min\u001b[39;00m \u001b[39mrange\u001b[39m(\u001b[39m0\u001b[39m,num_moves):\n\u001b[1;32m---> 14\u001b[0m     crate \u001b[39m=\u001b[39m from_stack\u001b[39m.\u001b[39;49mpop()\n\u001b[0;32m     15\u001b[0m     to_stack\u001b[39m.\u001b[39mappend(crate)\n",
      "\u001b[1;31mIndexError\u001b[0m: pop from empty list"
     ]
    }
   ],
   "source": [
    "for move in moves:\n",
    "    \n",
    "    num_moves, from_idx, to_idx = move\n",
    "    \n",
    "    from_stack = stacks_dict[from_idx]\n",
    "    to_stack = stacks_dict[to_idx]\n",
    "    \n",
    "    \"\"\"\n",
    "    To remove, use .pop(), the return of which is the crate\n",
    "    to be added to the 'to_stack' using .append()\n",
    "    \"\"\"\n",
    "    \n",
    "    for move_ in range(0,num_moves):\n",
    "        crate = from_stack.pop()\n",
    "        to_stack.append(crate)"
   ]
  },
  {
   "cell_type": "code",
   "execution_count": null,
   "metadata": {},
   "outputs": [],
   "source": []
  }
 ],
 "metadata": {
  "kernelspec": {
   "display_name": "Python 3.10.8 64-bit",
   "language": "python",
   "name": "python3"
  },
  "language_info": {
   "codemirror_mode": {
    "name": "ipython",
    "version": 3
   },
   "file_extension": ".py",
   "mimetype": "text/x-python",
   "name": "python",
   "nbconvert_exporter": "python",
   "pygments_lexer": "ipython3",
   "version": "3.10.8"
  },
  "orig_nbformat": 4,
  "vscode": {
   "interpreter": {
    "hash": "380323a40d1eaaa0af0732e2edbc99121fdac0cd8d9a24d8229a624083db011b"
   }
  }
 },
 "nbformat": 4,
 "nbformat_minor": 2
}
