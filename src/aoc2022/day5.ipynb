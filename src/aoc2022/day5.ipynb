{
 "cells": [
  {
   "cell_type": "markdown",
   "metadata": {},
   "source": [
    "# Advent of Code 2022 - Day 5"
   ]
  },
  {
   "cell_type": "markdown",
   "metadata": {},
   "source": [
    "# Part One\n",
    "\n",
    "- Read input data\n",
    "    - Read stacks in to lists\n",
    "    - Read moves as strings\n"
   ]
  },
  {
   "cell_type": "markdown",
   "metadata": {},
   "source": [
    "Read input data"
   ]
  },
  {
   "cell_type": "code",
   "execution_count": 32,
   "metadata": {},
   "outputs": [],
   "source": [
    "from pathlib import Path\n",
    "\n",
    "input_path = Path.cwd() / \"input\" / \"day5_input.txt\"\n",
    "\n",
    "with open(input_path, \"r\") as input_file:\n",
    "    \n",
    "    lines = input_file.readlines()"
   ]
  },
  {
   "cell_type": "markdown",
   "metadata": {},
   "source": [
    "Split input data to the 'stacks' matrix and the 'moves' list"
   ]
  },
  {
   "cell_type": "code",
   "execution_count": 33,
   "metadata": {},
   "outputs": [],
   "source": [
    "stacks = []\n",
    "moves_input = []\n",
    "line_list = stacks\n",
    "\n",
    "for line in lines:\n",
    "    \n",
    "    # Change over to 'moves' when \"\\n\" is encountered\n",
    "    if line == \"\\n\":\n",
    "        line_list = moves_input\n",
    "    else:\n",
    "        line_list.append(line.rstrip(\"\\n\"))"
   ]
  },
  {
   "cell_type": "markdown",
   "metadata": {},
   "source": [
    "Convert stacks in to stacks..."
   ]
  },
  {
   "cell_type": "code",
   "execution_count": 34,
   "metadata": {},
   "outputs": [],
   "source": [
    "stacks_dict = {}\n",
    "\n",
    "for row in stacks:\n",
    "    \n",
    "    for idx, char in enumerate(row):\n",
    "        \n",
    "        # If the character is alphabet, then add to a list of it's position index\n",
    "        if char.isalpha():\n",
    "            if not stacks_dict.get(idx, None):\n",
    "                stacks_dict[idx] = []\n",
    "                \n",
    "            stacks_dict[idx].append(char)\n",
    "        \n",
    "        # Rename dict keys of position index to column numbers\n",
    "        elif char.isnumeric():\n",
    "            stacks_dict[int(char)] = stacks_dict.pop(idx)            "
   ]
  },
  {
   "cell_type": "markdown",
   "metadata": {},
   "source": [
    "Reverse each list"
   ]
  },
  {
   "cell_type": "code",
   "execution_count": 35,
   "metadata": {},
   "outputs": [
    {
     "data": {
      "text/plain": [
       "{1: ['F', 'T', 'C', 'L', 'R', 'P', 'G', 'Q'],\n",
       " 2: ['N', 'Q', 'H', 'W', 'R', 'F', 'S', 'J'],\n",
       " 3: ['F', 'B', 'H', 'W', 'P', 'M', 'Q'],\n",
       " 4: ['V', 'S', 'T', 'D', 'F'],\n",
       " 5: ['Q', 'L', 'D', 'W', 'V', 'F', 'Z'],\n",
       " 6: ['Z', 'C', 'L', 'S'],\n",
       " 7: ['Z', 'B', 'M', 'V', 'D', 'F'],\n",
       " 8: ['T', 'J', 'B'],\n",
       " 9: ['Q', 'N', 'B', 'G', 'L', 'S', 'P', 'H']}"
      ]
     },
     "execution_count": 35,
     "metadata": {},
     "output_type": "execute_result"
    }
   ],
   "source": [
    "for column in stacks_dict.keys():\n",
    "    \n",
    "    stacks_dict[column].reverse()\n",
    "    \n",
    "stacks_dict"
   ]
  },
  {
   "cell_type": "markdown",
   "metadata": {},
   "source": [
    "Convert moves in to individual moves"
   ]
  },
  {
   "cell_type": "code",
   "execution_count": 36,
   "metadata": {},
   "outputs": [],
   "source": [
    "def moves_to_int(moves_input):\n",
    "    moves = []\n",
    "\n",
    "    for move in moves_input:\n",
    "        \n",
    "        # Split each line to (move, from, to)\n",
    "        parts = move.split(\" \")\n",
    "        move_parts = tuple([int(part) for part in parts if part.isnumeric()])\n",
    "        moves.append(move_parts)\n",
    "    \n",
    "    return moves"
   ]
  },
  {
   "cell_type": "code",
   "execution_count": 37,
   "metadata": {},
   "outputs": [],
   "source": [
    "moves = moves_to_int(moves_input)"
   ]
  },
  {
   "cell_type": "markdown",
   "metadata": {},
   "source": [
    "For each move:\n",
    "- move[0] => How many moves in this move there will be\n",
    "- move[1] => Where are crates moved from\n",
    "- move[2] => Where are crates moved to"
   ]
  },
  {
   "cell_type": "code",
   "execution_count": 38,
   "metadata": {},
   "outputs": [],
   "source": [
    "from typing import List, Tuple, Dict\n",
    "\n",
    "def run_moves(moves: List[Tuple[int,int,int]], stacks_dict: Dict[int,List[str]]):\n",
    "\n",
    "    for move in moves:\n",
    "        \n",
    "        num_moves, from_idx, to_idx = move\n",
    "        \n",
    "        from_stack = stacks_dict[from_idx]\n",
    "        to_stack = stacks_dict[to_idx]\n",
    "        \n",
    "        \"\"\"\n",
    "        To remove, use .pop(), the return of which is the crate\n",
    "        to be added to the 'to_stack' using .append()\n",
    "        \"\"\"\n",
    "        \n",
    "        for move_ in range(0,num_moves):\n",
    "            crate = from_stack.pop()\n",
    "            to_stack.append(crate)\n",
    "            \n",
    "    return stacks_dict"
   ]
  },
  {
   "cell_type": "code",
   "execution_count": 39,
   "metadata": {},
   "outputs": [
    {
     "data": {
      "text/plain": [
       "{1: ['L', 'V'],\n",
       " 2: ['G', 'D', 'F', 'B', 'Q', 'M', 'Q', 'C', 'G'],\n",
       " 3: ['B'],\n",
       " 4: ['B'],\n",
       " 5: ['L', 'Z', 'W', 'W', 'V', 'D', 'S', 'P', 'S', 'F', 'F', 'J'],\n",
       " 6: ['W', 'C'],\n",
       " 7: ['H', 'H', 'B', 'Q', 'J', 'N', 'R'],\n",
       " 8: ['D', 'V', 'H', 'L', 'F', 'Z', 'P', 'T', 'T', 'Z', 'F', 'P', 'M'],\n",
       " 9: ['S', 'F', 'Q', 'L', 'T', 'Q', 'S', 'R', 'N']}"
      ]
     },
     "execution_count": 39,
     "metadata": {},
     "output_type": "execute_result"
    }
   ],
   "source": [
    "run_moves(moves, stacks_dict)"
   ]
  },
  {
   "cell_type": "markdown",
   "metadata": {},
   "source": [
    "Get crate at the top of each stack"
   ]
  },
  {
   "cell_type": "code",
   "execution_count": 42,
   "metadata": {},
   "outputs": [
    {
     "name": "stdout",
     "output_type": "stream",
     "text": [
      "VGBBJCRMN\n"
     ]
    }
   ],
   "source": [
    "top_crates : str = \"\"\n",
    "\n",
    "for stack in stacks_dict.values():\n",
    "    \n",
    "    top_crates += stack[-1]\n",
    "    \n",
    "print(top_crates)"
   ]
  },
  {
   "cell_type": "markdown",
   "metadata": {},
   "source": [
    "## Part Two"
   ]
  },
  {
   "cell_type": "markdown",
   "metadata": {},
   "source": [
    "# ********************* TEST BOX *********************"
   ]
  },
  {
   "cell_type": "code",
   "execution_count": 40,
   "metadata": {},
   "outputs": [],
   "source": [
    "test_stack = {\n",
    "    1:['Z','N'],\n",
    "    2:['M','C','D'],\n",
    "    3:['P']\n",
    "}\n",
    "\n",
    "test_moves = [\n",
    "    \"move 1 from 2 to 1\",\n",
    "    \"move 3 from 1 to 3\",\n",
    "    \"move 2 from 2 to 1\",\n",
    "    \"move 1 from 1 to 2\"\n",
    "]"
   ]
  },
  {
   "cell_type": "code",
   "execution_count": 41,
   "metadata": {},
   "outputs": [
    {
     "data": {
      "text/plain": [
       "{1: ['C'], 2: ['M'], 3: ['P', 'D', 'N', 'Z']}"
      ]
     },
     "execution_count": 41,
     "metadata": {},
     "output_type": "execute_result"
    }
   ],
   "source": [
    "run_moves(moves=moves_to_int(test_moves), stacks_dict=test_stack)"
   ]
  },
  {
   "cell_type": "code",
   "execution_count": null,
   "metadata": {},
   "outputs": [],
   "source": []
  }
 ],
 "metadata": {
  "kernelspec": {
   "display_name": "Python 3.10.8 64-bit",
   "language": "python",
   "name": "python3"
  },
  "language_info": {
   "codemirror_mode": {
    "name": "ipython",
    "version": 3
   },
   "file_extension": ".py",
   "mimetype": "text/x-python",
   "name": "python",
   "nbconvert_exporter": "python",
   "pygments_lexer": "ipython3",
   "version": "3.10.8"
  },
  "orig_nbformat": 4,
  "vscode": {
   "interpreter": {
    "hash": "380323a40d1eaaa0af0732e2edbc99121fdac0cd8d9a24d8229a624083db011b"
   }
  }
 },
 "nbformat": 4,
 "nbformat_minor": 2
}
