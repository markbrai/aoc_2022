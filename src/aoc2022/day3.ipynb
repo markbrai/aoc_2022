{
 "cells": [
  {
   "cell_type": "markdown",
   "metadata": {},
   "source": [
    "# Advent of Code 2022 - Day 3"
   ]
  },
  {
   "cell_type": "markdown",
   "metadata": {},
   "source": [
    "# Part One\n",
    "\n",
    "- Read in input as strings\n",
    "- Split each string in half\n",
    "- Find letter in first half that appears in second\n",
    "- Assign priority\n",
    "- Sum priorites"
   ]
  },
  {
   "cell_type": "code",
   "execution_count": 1,
   "metadata": {},
   "outputs": [],
   "source": [
    "from pathlib import Path"
   ]
  },
  {
   "cell_type": "code",
   "execution_count": 2,
   "metadata": {},
   "outputs": [],
   "source": [
    "input_path = Path.cwd() / \"input\" / \"day3_input.txt\""
   ]
  },
  {
   "cell_type": "code",
   "execution_count": 4,
   "metadata": {},
   "outputs": [],
   "source": [
    "with open(input_path, 'r') as input_file:\n",
    "    \n",
    "    lines = input_file.readlines()"
   ]
  },
  {
   "cell_type": "code",
   "execution_count": 47,
   "metadata": {},
   "outputs": [],
   "source": [
    "from typing import Tuple\n",
    "def split_line(line:str) -> Tuple[str]:\n",
    "    \n",
    "    line = line.rstrip('\\n')\n",
    "    \n",
    "    line_length = len(line)\n",
    "    \n",
    "    first_compartment = line[0:line_length//2]\n",
    "    second_compartment = line[line_length//2:]\n",
    "\n",
    "    return first_compartment, second_compartment"
   ]
  },
  {
   "cell_type": "code",
   "execution_count": 48,
   "metadata": {},
   "outputs": [],
   "source": [
    "def find_common_letter(first_compartment:str, second_compartment:str) -> str:\n",
    "    \n",
    "    for letter in first_compartment:\n",
    "        if letter in second_compartment:\n",
    "            return letter"
   ]
  },
  {
   "cell_type": "code",
   "execution_count": 49,
   "metadata": {},
   "outputs": [],
   "source": [
    "def get_letter_priority(common_letter: str) -> int:\n",
    "    \n",
    "    ascii_ord = ord(common_letter)\n",
    "    \n",
    "    if common_letter.isupper():\n",
    "        priority = ascii_ord - 38\n",
    "    else:\n",
    "        priority = ascii_ord - 96\n",
    "        \n",
    "    return priority"
   ]
  },
  {
   "cell_type": "code",
   "execution_count": 50,
   "metadata": {},
   "outputs": [],
   "source": [
    "import numpy as np\n",
    "priorities = []"
   ]
  },
  {
   "cell_type": "code",
   "execution_count": 51,
   "metadata": {},
   "outputs": [],
   "source": [
    "for line in lines:\n",
    "    \n",
    "    first_compartment, second_compartment = split_line(line)\n",
    "    \n",
    "    common_letter = find_common_letter(first_compartment,second_compartment)\n",
    "    \n",
    "    priority = get_letter_priority(common_letter)\n",
    "    \n",
    "    priorities.append(priority)\n"
   ]
  },
  {
   "cell_type": "code",
   "execution_count": 52,
   "metadata": {},
   "outputs": [
    {
     "data": {
      "text/plain": [
       "7850"
      ]
     },
     "execution_count": 52,
     "metadata": {},
     "output_type": "execute_result"
    }
   ],
   "source": [
    "priorities_np = np.array(priorities)\n",
    "priorities_np.sum()"
   ]
  },
  {
   "cell_type": "markdown",
   "metadata": {},
   "source": [
    "## Part Two\n",
    "\n",
    "- Group lines in sets of 3\n",
    "- Find common letter in all three\n",
    "- Score priority of common letter\n",
    "- Sum priorities of each group"
   ]
  },
  {
   "cell_type": "code",
   "execution_count": 72,
   "metadata": {},
   "outputs": [],
   "source": [
    "first_line = 0\n",
    "last_line = len(lines)\n",
    "step = 3"
   ]
  },
  {
   "cell_type": "code",
   "execution_count": 73,
   "metadata": {},
   "outputs": [],
   "source": [
    "group_priorities = []"
   ]
  },
  {
   "cell_type": "code",
   "execution_count": 74,
   "metadata": {},
   "outputs": [],
   "source": [
    "for i in range(first_line,last_line,step):\n",
    "    \n",
    "    line_group = lines[i: i+3]\n",
    "    \n",
    "    line_group = [set(line.rstrip('\\n')) for line in line_group]\n",
    "    \n",
    "    common_letter = set.intersection(*line_group)\n",
    "    \n",
    "    priority = get_letter_priority(*common_letter)\n",
    "    \n",
    "    group_priorities.append(priority)"
   ]
  },
  {
   "cell_type": "code",
   "execution_count": 76,
   "metadata": {},
   "outputs": [
    {
     "data": {
      "text/plain": [
       "2581"
      ]
     },
     "execution_count": 76,
     "metadata": {},
     "output_type": "execute_result"
    }
   ],
   "source": [
    "group_priorities_np = np.array(group_priorities)\n",
    "group_priorities_np.sum()"
   ]
  },
  {
   "cell_type": "code",
   "execution_count": null,
   "metadata": {},
   "outputs": [],
   "source": []
  }
 ],
 "metadata": {
  "kernelspec": {
   "display_name": "Python 3.9.7 ('.venv': pipenv)",
   "language": "python",
   "name": "python3"
  },
  "language_info": {
   "codemirror_mode": {
    "name": "ipython",
    "version": 3
   },
   "file_extension": ".py",
   "mimetype": "text/x-python",
   "name": "python",
   "nbconvert_exporter": "python",
   "pygments_lexer": "ipython3",
   "version": "3.9.7"
  },
  "orig_nbformat": 4,
  "vscode": {
   "interpreter": {
    "hash": "e5efa096507a0cff1503c5d00c4a7ba6e62b391ca8e03f472b6753719703ef5b"
   }
  }
 },
 "nbformat": 4,
 "nbformat_minor": 2
}
