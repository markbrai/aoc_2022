{
 "cells": [
  {
   "cell_type": "markdown",
   "metadata": {},
   "source": [
    "# Advent of Code 2022 - Day 6"
   ]
  },
  {
   "cell_type": "markdown",
   "metadata": {},
   "source": [
    "## Part One"
   ]
  },
  {
   "cell_type": "code",
   "execution_count": 17,
   "metadata": {},
   "outputs": [],
   "source": [
    "from pathlib import Path\n",
    "\n",
    "input_path = Path.cwd() / \"input\" / \"day6_input.txt\"\n",
    "\n",
    "with open(input_path, \"r\") as input_file:\n",
    "    \n",
    "    datastream = input_file.readlines()[0]"
   ]
  },
  {
   "cell_type": "code",
   "execution_count": 34,
   "metadata": {},
   "outputs": [],
   "source": [
    "def find_marker(datastream : str, buffer_len: int) -> int:\n",
    "    \n",
    "    buffer = set()\n",
    "    start = 0\n",
    "    stop = len(datastream)\n",
    "    \n",
    "    for idx in range(start, stop):\n",
    "                \n",
    "        buffer = set(datastream[idx:idx+buffer_len])\n",
    "        \n",
    "        if len(buffer) == buffer_len:\n",
    "            return buffer, idx + buffer_len"
   ]
  },
  {
   "cell_type": "code",
   "execution_count": 35,
   "metadata": {},
   "outputs": [
    {
     "name": "stdout",
     "output_type": "stream",
     "text": [
      "{'s', 'm', 'd', 'g'} @ 1987\n"
     ]
    }
   ],
   "source": [
    "buffer, idx = find_marker(datastream, 4)\n",
    "\n",
    "print(f\"{buffer} @ {idx}\")"
   ]
  },
  {
   "cell_type": "markdown",
   "metadata": {},
   "source": [
    "## Part Two"
   ]
  },
  {
   "cell_type": "code",
   "execution_count": 36,
   "metadata": {},
   "outputs": [
    {
     "name": "stdout",
     "output_type": "stream",
     "text": [
      "{'p', 'z', 'l', 'g', 'b', 'h', 'm', 'q', 'r', 'v', 'c', 't', 'f', 'd'} @ 3059\n"
     ]
    }
   ],
   "source": [
    "buffer, idx = find_marker(datastream, 14)\n",
    "\n",
    "print(f\"{buffer} @ {idx}\")"
   ]
  },
  {
   "cell_type": "markdown",
   "metadata": {},
   "source": [
    "## --------------- TEST ZONE ----------------"
   ]
  },
  {
   "cell_type": "code",
   "execution_count": 13,
   "metadata": {},
   "outputs": [
    {
     "name": "stdout",
     "output_type": "stream",
     "text": [
      "{'q', 'f', 'r', 'z'}\n",
      "11\n"
     ]
    }
   ],
   "source": [
    "stream = \"zcfzfwzzqfrljwzlrfnpqdbhtmscgvjw\"\n",
    "\n",
    "markers = set()\n",
    "\n",
    "start = 0\n",
    "stop = len(stream)\n",
    "\n",
    "for idx in range(start, stop):\n",
    "    \n",
    "    marker = set(stream[idx:idx+4])\n",
    "    \n",
    "    if len(marker) == 4:\n",
    "        print(marker)\n",
    "        print(idx+4)\n",
    "        break"
   ]
  },
  {
   "cell_type": "code",
   "execution_count": null,
   "metadata": {},
   "outputs": [],
   "source": []
  }
 ],
 "metadata": {
  "kernelspec": {
   "display_name": "Python 3.9.7 ('.venv': pipenv)",
   "language": "python",
   "name": "python3"
  },
  "language_info": {
   "codemirror_mode": {
    "name": "ipython",
    "version": 3
   },
   "file_extension": ".py",
   "mimetype": "text/x-python",
   "name": "python",
   "nbconvert_exporter": "python",
   "pygments_lexer": "ipython3",
   "version": "3.9.7"
  },
  "orig_nbformat": 4,
  "vscode": {
   "interpreter": {
    "hash": "e5efa096507a0cff1503c5d00c4a7ba6e62b391ca8e03f472b6753719703ef5b"
   }
  }
 },
 "nbformat": 4,
 "nbformat_minor": 2
}
