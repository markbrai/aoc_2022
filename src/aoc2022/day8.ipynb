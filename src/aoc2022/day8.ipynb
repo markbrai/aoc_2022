{
 "cells": [
  {
   "cell_type": "markdown",
   "metadata": {},
   "source": [
    "# Advent of Code 2022 - Day 8"
   ]
  },
  {
   "cell_type": "code",
   "execution_count": 23,
   "metadata": {},
   "outputs": [],
   "source": [
    "from pathlib import Path\n",
    "from typing import List, Dict, Set, Tuple, Any\n",
    "import numpy as np"
   ]
  },
  {
   "cell_type": "markdown",
   "metadata": {},
   "source": [
    "## Part One\n",
    "\n"
   ]
  },
  {
   "cell_type": "markdown",
   "metadata": {},
   "source": [
    "Read input"
   ]
  },
  {
   "cell_type": "code",
   "execution_count": 24,
   "metadata": {},
   "outputs": [],
   "source": [
    "def read_input(input_name: str) -> List[str]:\n",
    "    input_path = Path.cwd() / \"input\" / input_name\n",
    "\n",
    "    with open(input_path, 'r') as input_file:\n",
    "        \n",
    "        lines = input_file.readlines()\n",
    "        \n",
    "    return [line.rstrip(\"\\n\") for line in lines]"
   ]
  },
  {
   "cell_type": "code",
   "execution_count": 25,
   "metadata": {},
   "outputs": [],
   "source": [
    "tree_lines_test = read_input(\"day8_input_test.txt\")\n",
    "tree_lines = read_input(\"day8_input.txt\")\n",
    "\n",
    "TREE_LINES = tree_lines_test"
   ]
  },
  {
   "cell_type": "markdown",
   "metadata": {},
   "source": [
    "Convert each line in to a list of ints"
   ]
  },
  {
   "cell_type": "code",
   "execution_count": 26,
   "metadata": {},
   "outputs": [],
   "source": [
    "def str_to_int_list(line: str) -> List[int]:\n",
    "\n",
    "    return [int(char) for char in line]\n",
    "\n",
    "\n",
    "def tree_line_to_matrix(line_list: List[str]) -> List[List[int]]:\n",
    "\n",
    "    list_matrix = [str_to_int_list(line) for line in line_list]\n",
    "\n",
    "    return np.matrix(list_matrix)"
   ]
  },
  {
   "cell_type": "code",
   "execution_count": 27,
   "metadata": {},
   "outputs": [],
   "source": [
    "tree_matrix = tree_line_to_matrix(TREE_LINES)"
   ]
  },
  {
   "cell_type": "code",
   "execution_count": 28,
   "metadata": {},
   "outputs": [
    {
     "data": {
      "text/plain": [
       "matrix([[3, 0, 3, 7, 3],\n",
       "        [2, 5, 5, 1, 2],\n",
       "        [6, 5, 3, 3, 2],\n",
       "        [3, 3, 5, 4, 9],\n",
       "        [3, 5, 3, 9, 0]])"
      ]
     },
     "execution_count": 28,
     "metadata": {},
     "output_type": "execute_result"
    }
   ],
   "source": [
    "tree_matrix"
   ]
  },
  {
   "cell_type": "markdown",
   "metadata": {},
   "source": [
    "### Using `np.diff()`"
   ]
  },
  {
   "cell_type": "markdown",
   "metadata": {},
   "source": [
    "`np.diff(tree_matrix, axis=X)` will return an array that has one less row or column (depending on axis) than then input matrix --> This will always be an 'edge' so it does not matter.\n",
    "\n",
    "If a value in the return is >0 then that tree is taller than the one next to it on the axis specified."
   ]
  },
  {
   "cell_type": "code",
   "execution_count": 29,
   "metadata": {},
   "outputs": [
    {
     "data": {
      "text/plain": [
       "matrix([[False,  True,  True, False, False],\n",
       "        [ True, False, False,  True, False],\n",
       "        [False, False,  True,  True,  True],\n",
       "        [False,  True, False,  True, False]])"
      ]
     },
     "execution_count": 29,
     "metadata": {},
     "output_type": "execute_result"
    }
   ],
   "source": [
    "np.diff(tree_matrix, axis=0) > 0"
   ]
  },
  {
   "cell_type": "code",
   "execution_count": 49,
   "metadata": {},
   "outputs": [],
   "source": [
    "inner_truth_matrix = np.logical_or(\n",
    "    np.diff(tree_matrix, axis=0)[:-1, 1:-1] > 0,  # Along columns\n",
    "    np.diff(tree_matrix, axis=1)[1:-1, :-1] > 0,\n",
    ")  # Along rows\n",
    "inner_flipped_truth_matrix = np.logical_or(\n",
    "    np.diff(np.flipud(tree_matrix), axis=0)[:-1,1:-1] > 0,\n",
    "    np.diff(np.fliplr(tree_matrix), axis=1)[1:-1, :-1] > 0,\n",
    ")"
   ]
  },
  {
   "cell_type": "code",
   "execution_count": 50,
   "metadata": {},
   "outputs": [
    {
     "data": {
      "text/plain": [
       "matrix([[ True,  True, False],\n",
       "        [False, False,  True],\n",
       "        [False,  True,  True]])"
      ]
     },
     "execution_count": 50,
     "metadata": {},
     "output_type": "execute_result"
    }
   ],
   "source": [
    "inner_truth_matrix"
   ]
  },
  {
   "cell_type": "code",
   "execution_count": 51,
   "metadata": {},
   "outputs": [
    {
     "data": {
      "text/plain": [
       "matrix([[False,  True, False],\n",
       "        [ True, False,  True],\n",
       "        [False,  True, False]])"
      ]
     },
     "execution_count": 51,
     "metadata": {},
     "output_type": "execute_result"
    }
   ],
   "source": [
    "inner_flipped_truth_matrix"
   ]
  },
  {
   "cell_type": "code",
   "execution_count": 52,
   "metadata": {},
   "outputs": [
    {
     "data": {
      "text/plain": [
       "matrix([[ True,  True, False],\n",
       "        [ True, False,  True],\n",
       "        [False,  True,  True]])"
      ]
     },
     "execution_count": 52,
     "metadata": {},
     "output_type": "execute_result"
    }
   ],
   "source": [
    "np.logical_or(inner_truth_matrix, inner_flipped_truth_matrix)"
   ]
  },
  {
   "cell_type": "markdown",
   "metadata": {},
   "source": [
    "Total number of trees is all edge trees plus the sum of the truth matrix"
   ]
  },
  {
   "cell_type": "code",
   "execution_count": null,
   "metadata": {},
   "outputs": [
    {
     "data": {
      "text/plain": [
       "21"
      ]
     },
     "execution_count": 20,
     "metadata": {},
     "output_type": "execute_result"
    }
   ],
   "source": [
    "total_trees = (\n",
    "    tree_matrix.shape[0] * 2 + (tree_matrix.shape[1] - 2) * 2 + inner_truth_matrix.sum()\n",
    ")\n",
    "total_trees"
   ]
  },
  {
   "cell_type": "markdown",
   "metadata": {},
   "source": [
    "### Another method?"
   ]
  },
  {
   "cell_type": "code",
   "execution_count": null,
   "metadata": {},
   "outputs": [],
   "source": []
  }
 ],
 "metadata": {
  "kernelspec": {
   "display_name": "Python 3.10.8 64-bit",
   "language": "python",
   "name": "python3"
  },
  "language_info": {
   "codemirror_mode": {
    "name": "ipython",
    "version": 3
   },
   "file_extension": ".py",
   "mimetype": "text/x-python",
   "name": "python",
   "nbconvert_exporter": "python",
   "pygments_lexer": "ipython3",
   "version": "3.10.8"
  },
  "orig_nbformat": 4,
  "vscode": {
   "interpreter": {
    "hash": "380323a40d1eaaa0af0732e2edbc99121fdac0cd8d9a24d8229a624083db011b"
   }
  }
 },
 "nbformat": 4,
 "nbformat_minor": 2
}
