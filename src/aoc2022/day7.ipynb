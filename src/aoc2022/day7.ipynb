{
 "cells": [
  {
   "cell_type": "markdown",
   "metadata": {},
   "source": [
    "# Advent of Code 2022 - Day 7"
   ]
  },
  {
   "cell_type": "markdown",
   "metadata": {},
   "source": [
    "## Part One"
   ]
  },
  {
   "cell_type": "code",
   "execution_count": 1,
   "metadata": {},
   "outputs": [],
   "source": [
    "from pathlib import Path\n",
    "from typing import List\n",
    "\n",
    "def read_input(input_name: str) -> List[str]:\n",
    "    input_path = Path.cwd() / \"input\" / input_name\n",
    "\n",
    "    with open(input_path, 'r') as input_file:\n",
    "        \n",
    "        lines = input_file.readlines()\n",
    "        \n",
    "    return [line.rstrip(\"\\n\") for line in lines]"
   ]
  },
  {
   "cell_type": "code",
   "execution_count": 2,
   "metadata": {},
   "outputs": [],
   "source": [
    "terminal_output_test = read_input(\"day7_input_test.txt\")\n",
    "terminal_output = read_input(\"day7_input.txt\")"
   ]
  },
  {
   "cell_type": "markdown",
   "metadata": {},
   "source": [
    "Actions:\n",
    "\n",
    "- $ cd / --> Start(Top Level)\n",
    "- $ ls --> Items up to next '$' are either directories or files\n",
    "- dir X --> create a FileDir of that nam\n",
    "- 12345 X.something --> Create AFile for that object\n",
    "- cd X --> Set current dir to FileDir of that name\n",
    "- cd .. --> Set current dir to parent of currently open Dir\n"
   ]
  },
  {
   "cell_type": "code",
   "execution_count": 3,
   "metadata": {},
   "outputs": [],
   "source": [
    "COMMAND = 1\n",
    "ARGUMENT = 2"
   ]
  },
  {
   "cell_type": "code",
   "execution_count": 4,
   "metadata": {},
   "outputs": [],
   "source": [
    "from dataclasses import dataclass\n",
    "\n",
    "@dataclass\n",
    "class AFile:\n",
    "    \n",
    "    name : str\n",
    "    size : int"
   ]
  },
  {
   "cell_type": "code",
   "execution_count": 21,
   "metadata": {},
   "outputs": [],
   "source": [
    "from __future__ import annotations\n",
    "\n",
    "class FileDir:\n",
    "    \n",
    "    def __init__(self, dir_name: str, parent: str) -> None:\n",
    "        self.dir_name = dir_name\n",
    "        self.parent = parent\n",
    "        self.contents = []\n",
    "        \n",
    "    def add_contents(self, new_content: AFile | FileDir ):\n",
    "        \n",
    "        self.contents.append(new_content)\n",
    "    \n",
    "    @property\n",
    "    def dir_size(self):\n",
    "        \n",
    "        dir_size = 0\n",
    "        \n",
    "        for content in self.contents:\n",
    "            if isinstance(content, AFile):\n",
    "                dir_size += content.size\n",
    "            elif isinstance(content, FileDir):\n",
    "                dir_size += content.dir_size\n",
    "                \n",
    "        return dir_size\n",
    "                \n",
    "    def get_child_dir(self, dir_name:str):\n",
    "        \n",
    "        for content in self.contents:\n",
    "            if isinstance(content, FileDir) and content.dir_name == dir_name:\n",
    "                return content\n",
    "            \n",
    "        return None\n",
    "            \n",
    "    def check_under_100k(self):\n",
    "        \n",
    "        return self.dir_size <= 100_000\n",
    "    \n",
    "    def __repr__(self) -> str:\n",
    "        return f\"dir_name:{self.dir_name}, dir_size: {self.dir_size}\"\n",
    "\n"
   ]
  },
  {
   "cell_type": "code",
   "execution_count": 22,
   "metadata": {},
   "outputs": [],
   "source": [
    "\n",
    "def create_dir_dict(terminal_output: List[str]):\n",
    "\n",
    "    dir_dict = {}\n",
    "    current_dir : FileDir = None\n",
    "    in_list = False\n",
    "\n",
    "    for idx, line in enumerate(terminal_output):\n",
    "        command = line.split(\" \",2)\n",
    "        \n",
    "        if '$' in line:     # Then is a command\n",
    "            if command[COMMAND] == 'cd':\n",
    "                if command[ARGUMENT] == \"/\":\n",
    "                    in_list = False\n",
    "                    dir_dict[\"top\"] = FileDir(\"top\", parent=None)\n",
    "                    current_dir = dir_dict[\"top\"]\n",
    "                elif command[ARGUMENT] == \"..\":\n",
    "                    in_list = False\n",
    "                    current_dir = dir_dict[current_dir.parent]\n",
    "                else:\n",
    "                    in_list = False\n",
    "                    current_dir = dir_dict[command[ARGUMENT]]\n",
    "                    \n",
    "            elif command[COMMAND] == 'ls':\n",
    "                in_list = True\n",
    "                continue\n",
    "        else:\n",
    "            if command[0] == \"dir\":\n",
    "                dir_dict[command[1]] = FileDir(command[1], current_dir.dir_name)\n",
    "                current_dir.add_contents(dir_dict[command[1]])\n",
    "            elif command[0].isnumeric():\n",
    "                current_dir.add_contents(AFile(command[1], int(command[0])))\n",
    "                \n",
    "    return dir_dict\n",
    "                "
   ]
  },
  {
   "cell_type": "code",
   "execution_count": 23,
   "metadata": {},
   "outputs": [],
   "source": [
    "dir_dict = create_dir_dict(terminal_output)"
   ]
  },
  {
   "cell_type": "code",
   "execution_count": 24,
   "metadata": {},
   "outputs": [
    {
     "data": {
      "text/plain": [
       "967369"
      ]
     },
     "execution_count": 24,
     "metadata": {},
     "output_type": "execute_result"
    }
   ],
   "source": [
    "import numpy as np\n",
    "dir_100k_list = [dir_.dir_size for dir_ in dir_dict.values() if dir_.check_under_100k()]\n",
    "np.array(dir_100k_list).sum()"
   ]
  },
  {
   "cell_type": "code",
   "execution_count": 25,
   "metadata": {},
   "outputs": [
    {
     "data": {
      "text/plain": [
       "[dir_name:btsgrbd, dir_size: 35167648,\n",
       " AFile(name='cprq.fmm', size=3868),\n",
       " dir_name:gcbpcf, dir_size: 8024661,\n",
       " dir_name:hfm, dir_size: 0,\n",
       " AFile(name='lthcng.gnf', size=324644),\n",
       " AFile(name='nblfzrb.mrr', size=133181),\n",
       " AFile(name='sfrbjmmh.jnj', size=140568),\n",
       " dir_name:tfsh, dir_size: 244821,\n",
       " dir_name:vlsqgrw, dir_size: 6580859,\n",
       " AFile(name='vmpgqbcd', size=202279)]"
      ]
     },
     "execution_count": 25,
     "metadata": {},
     "output_type": "execute_result"
    }
   ],
   "source": [
    "dir_dict[\"top\"].contents"
   ]
  },
  {
   "cell_type": "markdown",
   "metadata": {},
   "source": [
    "## ---------------------- TEST ZONE ------------------------"
   ]
  },
  {
   "cell_type": "code",
   "execution_count": 9,
   "metadata": {},
   "outputs": [
    {
     "data": {
      "text/plain": [
       "['cd', '..']"
      ]
     },
     "execution_count": 9,
     "metadata": {},
     "output_type": "execute_result"
    }
   ],
   "source": [
    "a_string = \"cd ..\"\n",
    "a_string.split(\" \",2)"
   ]
  },
  {
   "cell_type": "code",
   "execution_count": null,
   "metadata": {},
   "outputs": [],
   "source": []
  }
 ],
 "metadata": {
  "kernelspec": {
   "display_name": "Python 3.10.8 64-bit",
   "language": "python",
   "name": "python3"
  },
  "language_info": {
   "codemirror_mode": {
    "name": "ipython",
    "version": 3
   },
   "file_extension": ".py",
   "mimetype": "text/x-python",
   "name": "python",
   "nbconvert_exporter": "python",
   "pygments_lexer": "ipython3",
   "version": "3.10.8"
  },
  "orig_nbformat": 4,
  "vscode": {
   "interpreter": {
    "hash": "380323a40d1eaaa0af0732e2edbc99121fdac0cd8d9a24d8229a624083db011b"
   }
  }
 },
 "nbformat": 4,
 "nbformat_minor": 2
}
