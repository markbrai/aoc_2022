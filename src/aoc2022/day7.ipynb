{
 "cells": [
  {
   "cell_type": "markdown",
   "metadata": {},
   "source": [
    "# Advent of Code 2022 - Day 7"
   ]
  },
  {
   "cell_type": "markdown",
   "metadata": {},
   "source": [
    "## Part One"
   ]
  },
  {
   "cell_type": "code",
   "execution_count": 2,
   "metadata": {},
   "outputs": [],
   "source": [
    "from pathlib import Path\n",
    "from typing import List\n",
    "\n",
    "def read_input(input_name: str) -> List[str]:\n",
    "    input_path = Path.cwd() / \"input\" / input_name\n",
    "\n",
    "    with open(input_path, 'r') as input_file:\n",
    "        \n",
    "        lines = input_file.readlines()\n",
    "        \n",
    "    return [line.rstrip(\"\\n\") for line in lines]"
   ]
  },
  {
   "cell_type": "code",
   "execution_count": 3,
   "metadata": {},
   "outputs": [],
   "source": [
    "terminal_output_test = read_input(\"day7_input_test.txt\")"
   ]
  },
  {
   "cell_type": "markdown",
   "metadata": {},
   "source": [
    "Actions:\n",
    "\n",
    "- $ cd / --> Start(Top Level)\n",
    "- $ ls --> Items up to next '$' are either directories or files\n"
   ]
  },
  {
   "cell_type": "code",
   "execution_count": null,
   "metadata": {},
   "outputs": [],
   "source": [
    "COMMAND = 1\n",
    "ARGUMENT = 2"
   ]
  },
  {
   "cell_type": "code",
   "execution_count": 13,
   "metadata": {},
   "outputs": [],
   "source": [
    "from dataclasses import dataclass\n",
    "\n",
    "@dataclass\n",
    "class AFile:\n",
    "    \n",
    "    name : str\n",
    "    extension : str\n",
    "    size : int"
   ]
  },
  {
   "cell_type": "code",
   "execution_count": 17,
   "metadata": {},
   "outputs": [],
   "source": [
    "class FileDir:\n",
    "    \n",
    "    def __init__(self, dir_name: str) -> None:\n",
    "        self.dir_name = dir_name\n",
    "        self.contents = []\n",
    "        \n",
    "    def add_contents(self, new_content: AFile | FileDir ):\n",
    "        \n",
    "        self.contents.append(new_content)\n",
    "    \n",
    "    @property\n",
    "    def dir_size(self):\n",
    "        \n",
    "        dir_size = 0\n",
    "        \n",
    "        for content in self.contents:\n",
    "            if isinstance(content, AFile):\n",
    "                dir_size += content.size\n",
    "            elif isinstance(content, FileDir):\n",
    "                dir_size += content.get_dir_size()\n",
    "    \n",
    "    def check_under_100k(self):\n",
    "        \n",
    "        return self.dir_size < 100_000"
   ]
  },
  {
   "cell_type": "code",
   "execution_count": null,
   "metadata": {},
   "outputs": [],
   "source": [
    "from __future__ import annotations\n",
    "\n",
    "def create_dir_dict(terminal_output: List[str]):\n",
    "    \n",
    "    \n",
    "    \n",
    "    for idx, line in enumerate(terminal_output):\n",
    "        \n",
    "        if '$' in line:     # Then is a command\n",
    "            command = line.split(\" \",2)\n",
    "            \n",
    "            match command[COMMAND]\n",
    "            \n",
    "                case 'cd':\n",
    "                    \n",
    "                case 'ls':\n",
    "                    ..."
   ]
  },
  {
   "cell_type": "markdown",
   "metadata": {},
   "source": [
    "## ---------------------- TEST ZONE ------------------------"
   ]
  },
  {
   "cell_type": "code",
   "execution_count": 11,
   "metadata": {},
   "outputs": [
    {
     "data": {
      "text/plain": [
       "['cd', '..']"
      ]
     },
     "execution_count": 11,
     "metadata": {},
     "output_type": "execute_result"
    }
   ],
   "source": [
    "a_string = \"$ cd ..\"\n",
    "a_string.split(\" \",2)[1:]"
   ]
  },
  {
   "cell_type": "code",
   "execution_count": null,
   "metadata": {},
   "outputs": [],
   "source": []
  }
 ],
 "metadata": {
  "kernelspec": {
   "display_name": "Python 3.10.8 64-bit",
   "language": "python",
   "name": "python3"
  },
  "language_info": {
   "codemirror_mode": {
    "name": "ipython",
    "version": 3
   },
   "file_extension": ".py",
   "mimetype": "text/x-python",
   "name": "python",
   "nbconvert_exporter": "python",
   "pygments_lexer": "ipython3",
   "version": "3.10.8"
  },
  "orig_nbformat": 4,
  "vscode": {
   "interpreter": {
    "hash": "380323a40d1eaaa0af0732e2edbc99121fdac0cd8d9a24d8229a624083db011b"
   }
  }
 },
 "nbformat": 4,
 "nbformat_minor": 2
}
