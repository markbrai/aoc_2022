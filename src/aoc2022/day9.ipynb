{
 "cells": [
  {
   "attachments": {},
   "cell_type": "markdown",
   "metadata": {},
   "source": [
    "# Advent of Code 2022 - Day 9"
   ]
  },
  {
   "cell_type": "code",
   "execution_count": 1,
   "metadata": {},
   "outputs": [],
   "source": [
    "from pathlib import Path\n",
    "from typing import Final, List, Dict, Tuple, Set, Any, Optional"
   ]
  },
  {
   "attachments": {},
   "cell_type": "markdown",
   "metadata": {},
   "source": [
    "## Part One\n",
    "\n",
    "- [X] Read input\n",
    "- [ ] Split each instruction to a Tuple of (Direction, Number)\n",
    "- [ ] Create a grid for the rope to move on?\n",
    "- [ ] Move Head\n",
    "- [ ] Compare Tail position to head and move accordingly\n",
    "- [ ] Mark position of tail on a boolean grid (True is tail has passed that space)\n",
    "- [ ] Count grid\n"
   ]
  },
  {
   "cell_type": "code",
   "execution_count": 2,
   "metadata": {},
   "outputs": [],
   "source": [
    "INPUT_NAME : str = \"day9_input_test.txt\"\n",
    "# MovePosition : TypeAlias = Tuple[int, int]"
   ]
  },
  {
   "cell_type": "code",
   "execution_count": 3,
   "metadata": {},
   "outputs": [],
   "source": [
    "def read_input(input_name: str) -> List[str]:\n",
    "    input_path : Path = Path.cwd() / \"input\" / input_name\n",
    "\n",
    "    with open(input_path, \"r\") as input_file:\n",
    "\n",
    "        lines : List = input_file.readlines()\n",
    "\n",
    "    return [line.rstrip(\"\\n\") for line in lines]"
   ]
  },
  {
   "cell_type": "code",
   "execution_count": 4,
   "metadata": {},
   "outputs": [],
   "source": [
    "instructions_input : List= [tuple(line.split(\" \")) for line in read_input(INPUT_NAME)]"
   ]
  },
  {
   "cell_type": "code",
   "execution_count": 5,
   "metadata": {},
   "outputs": [],
   "source": [
    "\n",
    "STARTING_POSITION : Final= (0,0)\n",
    "STEP = 1\n",
    "ROW = 0\n",
    "COL = 1\n",
    "DIAGONAL = \"/\"\n",
    "DIRECTION = 0\n",
    "COUNT = 1"
   ]
  },
  {
   "cell_type": "code",
   "execution_count": 6,
   "metadata": {},
   "outputs": [],
   "source": [
    "all_covered_positions = set([])"
   ]
  },
  {
   "cell_type": "code",
   "execution_count": 7,
   "metadata": {},
   "outputs": [],
   "source": [
    "def make_step_move(current_position, move, is_tail: bool = False):\n",
    "    \"\"\"\n",
    "    Co-ordinates are relative to start (0,0), as (row, col)\n",
    "    \"\"\"  \n",
    "    \n",
    "    return (current_position[ROW] + move[ROW], current_position[COL] + move[COL])\n",
    "    "
   ]
  },
  {
   "cell_type": "code",
   "execution_count": 8,
   "metadata": {},
   "outputs": [],
   "source": [
    "def move_head(current_position, move):\n",
    "    \n",
    "    return make_step_move(current_position, move)"
   ]
  },
  {
   "cell_type": "code",
   "execution_count": 9,
   "metadata": {},
   "outputs": [],
   "source": [
    "def move_tail(direction: str, head_position, current_position):\n",
    "    \"\"\"\n",
    "    Delta position: \n",
    "        -ve means below or to the left of head\n",
    "    \n",
    "    Diagonal movement:\n",
    "        Head movmement that results in a diagonal delta should result in no tail movement.\n",
    "        Next tail movement should then be to where head was in previous.\n",
    "    \"\"\"\n",
    "    \n",
    "    # delta_position = (current_position[ROW]-head_position[ROW], current_position[COL]-head_position[COL])\n",
    "    delta_position = (head_position[ROW]-current_position[ROW], head_position[COL]-current_position[COL])\n",
    "    # print(f\"Delta: {delta_position}\")\n",
    "    \n",
    "    # Check if in same row/col (else diagonal move)\n",
    "    # Both checks will be false if diagonal move required\n",
    "    if max(abs(delta_position[ROW]), abs(delta_position[COL])) < 2: # Head on top of tail! (would only be if U then D, or L then R)\n",
    "        # print(\"Returning current\")\n",
    "        return current_position\n",
    "    \n",
    "    elif current_position[ROW] == head_position[ROW] or current_position[COL] == head_position[COL]:\n",
    "        # Move orthogonally\n",
    "        move = generate_step_move(direction)\n",
    "        # print(\"Orthogonal\")\n",
    "        return make_step_move(current_position, move)\n",
    "    else:\n",
    "        # Move diagonally\n",
    "        if max(abs(delta_position[ROW]), abs(delta_position[COL])) <= 1:\n",
    "        # If delta position is (1,1) then don't move\n",
    "            # print(\"Diagonal, no move\")\n",
    "            return current_position\n",
    "\n",
    "        else:\n",
    "        # If |delta position| is (2,1) or (1,2) then move diagonally\n",
    "            # print(\"Diagonal, move\")\n",
    "            move = generate_step_move(DIAGONAL, delta_position)\n",
    "            return make_step_move(current_position, move)"
   ]
  },
  {
   "cell_type": "code",
   "execution_count": 10,
   "metadata": {},
   "outputs": [],
   "source": [
    "def generate_step_move(direction: str, diagonal_delta = None):\n",
    "    \n",
    "    step = -1 if direction in [\"L\", \"D\"] else 1\n",
    "    \n",
    "    if direction in [\"L\", \"R\"]:\n",
    "        move = (0, step)\n",
    "    elif direction in [\"U\", \"D\"]:\n",
    "        move = (step, 0)\n",
    "    elif direction == DIAGONAL:\n",
    "        \n",
    "        def check_diag_move(num_spaces: int) -> int:\n",
    "            \"\"\"\n",
    "                If a row or col move is > 2 it is diagonal\n",
    "                Function converts this to a tail move\n",
    "            \"\"\"\n",
    "            \n",
    "            if abs(num_spaces) > 1:\n",
    "                if 1-(num_spaces<0):    # num_spaces is positive\n",
    "                    return num_spaces -1\n",
    "                else:                   # num_spaces is negative\n",
    "                    return num_spaces + 1\n",
    "            else:\n",
    "                return num_spaces\n",
    "            \n",
    "        move = (check_diag_move(diagonal_delta[ROW]), check_diag_move(diagonal_delta[COL]))\n",
    "        # print(f\"MOVE: {move}\")\n",
    "        \n",
    "    return move"
   ]
  },
  {
   "cell_type": "code",
   "execution_count": 11,
   "metadata": {},
   "outputs": [],
   "source": [
    "def make_move(\n",
    "    direction: str, count: str, head_position, tail_position\n",
    "):\n",
    "    \"\"\"\n",
    "    Returns current head position, and list of positions tail has been in for this move\n",
    "    \"\"\"\n",
    "\n",
    "    count = int(count)\n",
    "\n",
    "    current_head_position = head_position\n",
    "    current_tail_position = tail_position\n",
    "    covered_positions : List = []\n",
    "\n",
    "    for idx in range(count):\n",
    "        # print(f\"{idx}\")\n",
    "        start_pos : bool = current_head_position == STARTING_POSITION\n",
    "        move = generate_step_move(direction)\n",
    "        current_head_position = move_head(current_head_position, move)\n",
    "        if not start_pos:\n",
    "            # print(\"Moving tail!\")\n",
    "            current_tail_position = move_tail(direction, current_head_position, current_tail_position)\n",
    "            covered_positions.append(current_tail_position)\n",
    "        else:\n",
    "            covered_positions.append(STARTING_POSITION)\n",
    "        # print(f\"Head: {current_head_position}, Tail: {current_tail_position}\")\n",
    "        \n",
    "    return current_head_position, current_tail_position, covered_positions\n",
    "        "
   ]
  },
  {
   "cell_type": "code",
   "execution_count": 12,
   "metadata": {},
   "outputs": [],
   "source": [
    "# position_set.update(make_move(\"U\", 4, STARTING_POSITION, STARTING_POSITION)[2])"
   ]
  },
  {
   "cell_type": "code",
   "execution_count": 13,
   "metadata": {},
   "outputs": [
    {
     "name": "stdout",
     "output_type": "stream",
     "text": [
      "22\n"
     ]
    }
   ],
   "source": [
    "# Initialise a list of starting positiong\n",
    "# Indexing is 0 = Head, 1-9 = Tails\n",
    "knots = [STARTING_POSITION] * 10\n",
    "\n",
    "for idx, instruction in enumerate(instructions_input):\n",
    "\n",
    "    # if idx == 0:\n",
    "    #     current_head_position, current_tail_position = (\n",
    "    #         STARTING_POSITION,\n",
    "    #         STARTING_POSITION,\n",
    "    #     )\n",
    "        \n",
    "    # print(f\"[{idx}] {instruction[DIRECTION]}, {instruction[COUNT]}\")\n",
    "\n",
    "    for head_idx, knot in enumerate(knots):\n",
    "\n",
    "        tail_idx = head_idx + 1\n",
    "        if tail_idx < len(knots):\n",
    "            \n",
    "            current_head_position = knots[head_idx]\n",
    "            current_tail_position = knots[tail_idx]\n",
    "        \n",
    "            knots[head_idx], knots[tail_idx], covered_positions = make_move(\n",
    "                instruction[DIRECTION],\n",
    "                instruction[COUNT],\n",
    "                current_head_position,\n",
    "                current_tail_position,\n",
    "            )\n",
    "            \n",
    "        if tail_idx == len(knots) -1:\n",
    "            all_covered_positions.update(covered_positions)\n",
    "    \n",
    "    \n",
    "print(len(all_covered_positions))"
   ]
  },
  {
   "cell_type": "code",
   "execution_count": 14,
   "metadata": {},
   "outputs": [],
   "source": [
    "# def follow_instruction(instruction: Tuple[str, str], current_head_position, current_tail_position):\n",
    "\n",
    "#     current_head_position, current_tail_position, covered_positions = make_move(\n",
    "#         instruction[DIRECTION],\n",
    "#         instruction[COUNT],\n",
    "#         current_head_position,\n",
    "#         current_tail_position,\n",
    "#     # \n",
    "\n",
    "#     all_covered_positions.update(covered_positions)\n",
    "    \n",
    "#     return current_head_position, current_tail_position"
   ]
  },
  {
   "cell_type": "code",
   "execution_count": 15,
   "metadata": {},
   "outputs": [],
   "source": [
    "# # Starting Pos\n",
    "# move1_r4 = follow_instruction(instructions_input[0], STARTING_POSITION, STARTING_POSITION)"
   ]
  },
  {
   "cell_type": "markdown",
   "metadata": {},
   "source": [
    "## Part Two\n",
    "\n",
    "\"Should\" be able to update the code to simply use a list of Tail positions, each using the tail in front as it's head"
   ]
  },
  {
   "cell_type": "code",
   "execution_count": 16,
   "metadata": {},
   "outputs": [],
   "source": [
    "# Initialise a list of starting positiong"
   ]
  }
 ],
 "metadata": {
  "kernelspec": {
   "display_name": "Python 3.9.7 ('.venv': pipenv)",
   "language": "python",
   "name": "python3"
  },
  "language_info": {
   "codemirror_mode": {
    "name": "ipython",
    "version": 3
   },
   "file_extension": ".py",
   "mimetype": "text/x-python",
   "name": "python",
   "nbconvert_exporter": "python",
   "pygments_lexer": "ipython3",
   "version": "3.9.7"
  },
  "orig_nbformat": 4,
  "vscode": {
   "interpreter": {
    "hash": "e5efa096507a0cff1503c5d00c4a7ba6e62b391ca8e03f472b6753719703ef5b"
   }
  }
 },
 "nbformat": 4,
 "nbformat_minor": 2
}
