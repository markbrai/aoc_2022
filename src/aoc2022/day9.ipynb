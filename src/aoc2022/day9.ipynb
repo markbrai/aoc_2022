{
 "cells": [
  {
   "attachments": {},
   "cell_type": "markdown",
   "metadata": {},
   "source": [
    "# Advent of Code 2022 - Day 9"
   ]
  },
  {
   "cell_type": "code",
   "execution_count": 1,
   "metadata": {},
   "outputs": [],
   "source": [
    "from pathlib import Path\n",
    "from typing import Final, List, Dict, Tuple, Set, Any, TypeAlias, Optional"
   ]
  },
  {
   "attachments": {},
   "cell_type": "markdown",
   "metadata": {},
   "source": [
    "## Part One\n",
    "\n",
    "- [X] Read input\n",
    "- [ ] Split each instruction to a Tuple of (Direction, Number)\n",
    "- [ ] Create a grid for the rope to move on?\n",
    "- [ ] Move Head\n",
    "- [ ] Compare Tail position to head and move accordingly\n",
    "- [ ] Mark position of tail on a boolean grid (True is tail has passed that space)\n",
    "- [ ] Count grid\n"
   ]
  },
  {
   "cell_type": "code",
   "execution_count": 2,
   "metadata": {},
   "outputs": [],
   "source": [
    "INPUT_NAME : str = \"day9_input_test.txt\"\n",
    "MovePosition : TypeAlias = Tuple[int, int]"
   ]
  },
  {
   "cell_type": "code",
   "execution_count": 3,
   "metadata": {},
   "outputs": [],
   "source": [
    "def read_input(input_name: str) -> List[str]:\n",
    "    input_path : Path = Path.cwd() / \"input\" / input_name\n",
    "\n",
    "    with open(input_path, \"r\") as input_file:\n",
    "\n",
    "        lines : List = input_file.readlines()\n",
    "\n",
    "    return [line.rstrip(\"\\n\") for line in lines]"
   ]
  },
  {
   "cell_type": "code",
   "execution_count": 4,
   "metadata": {},
   "outputs": [],
   "source": [
    "instructions_input : List[MovePosition]= [tuple(line.split(\" \")) for line in read_input(INPUT_NAME)]"
   ]
  },
  {
   "cell_type": "code",
   "execution_count": 5,
   "metadata": {},
   "outputs": [],
   "source": [
    "\n",
    "STARTING_POSITION : Final[MovePosition]= (0,0)\n",
    "STEP = 1\n",
    "ROW = 0\n",
    "COL = 1\n",
    "DIAGONAL = \"/\"\n",
    "DIRECTION = 0\n",
    "COUNT = 1"
   ]
  },
  {
   "cell_type": "code",
   "execution_count": 6,
   "metadata": {},
   "outputs": [],
   "source": [
    "all_covered_positions : Set[MovePosition] = set([])"
   ]
  },
  {
   "cell_type": "code",
   "execution_count": 7,
   "metadata": {},
   "outputs": [],
   "source": [
    "def make_step_move(current_position: MovePosition, move: MovePosition, is_tail: bool = False) -> MovePosition:\n",
    "    \"\"\"\n",
    "    Co-ordinates are relative to start (0,0), as (row, col)\n",
    "    \"\"\"  \n",
    "    \n",
    "    return (current_position[ROW] + move[ROW], current_position[COL] + move[COL])\n",
    "    "
   ]
  },
  {
   "cell_type": "code",
   "execution_count": 8,
   "metadata": {},
   "outputs": [],
   "source": [
    "def move_head(current_position: MovePosition, move: MovePosition) -> MovePosition:\n",
    "    \n",
    "    return make_step_move(current_position, move)"
   ]
  },
  {
   "cell_type": "code",
   "execution_count": 39,
   "metadata": {},
   "outputs": [],
   "source": [
    "def move_tail(direction: str, head_position: MovePosition, current_position: MovePosition) -> MovePosition:\n",
    "    \"\"\"\n",
    "    Delta position: \n",
    "        -ve means below or to the left of head\n",
    "    \n",
    "    Diagonal movement:\n",
    "        Head movmement that results in a diagonal delta should result in no tail movement.\n",
    "        Next tail movement should then be to where head was in previous.\n",
    "    \"\"\"\n",
    "    \n",
    "    delta_position = (current_position[ROW]-head_position[ROW], current_position[COL]-head_position[COL])\n",
    "    print(f\"Delta: {delta_position}\")\n",
    "    \n",
    "    # Check if in same row/col (else diagonal move)\n",
    "    # Both checks will be false if diagonal move required\n",
    "    if max(abs(delta_position[ROW]), abs(delta_position[COL])) < 2: # Head on top of tail! (would only be if U then D, or L then R)\n",
    "        print(\"Returning current\")\n",
    "        return current_position\n",
    "    \n",
    "    elif delta_position[ROW] == head_position[ROW] or delta_position[COL] == head_position[COL]:\n",
    "        # Move orthogonally\n",
    "        move = generate_step_move(direction)\n",
    "        print(\"Orthogonal\")\n",
    "        return make_step_move(current_position, move)\n",
    "    else:\n",
    "        # Move diagonally\n",
    "        if max(delta_position) < 2:\n",
    "        # If delta position is (1,1) then don't move\n",
    "            print(\"Diagonal, no move\")\n",
    "            return current_position\n",
    "\n",
    "        else:\n",
    "        # If |delta position| is (2,1) or (1,2) then move diagonally\n",
    "            print(\"Diagonal, move\")\n",
    "            move = generate_step_move(DIAGONAL, delta_position)\n",
    "            return make_step_move(current_position, move)"
   ]
  },
  {
   "cell_type": "code",
   "execution_count": 40,
   "metadata": {},
   "outputs": [],
   "source": [
    "def generate_step_move(direction: str, diagonal_delta: Optional[MovePosition] = None) -> MovePosition:\n",
    "    \n",
    "    step = -1 if direction in [\"L\", \"D\"] else 1\n",
    "    \n",
    "    if direction in [\"L\", \"R\"]:\n",
    "        move : MovePosition = (0, step)\n",
    "    elif direction in [\"U\", \"D\"]:\n",
    "        move = (step, 0)\n",
    "    elif direction == DIAGONAL:\n",
    "        \n",
    "        def check_diag_move(num_spaces: int) -> int:\n",
    "            \"\"\"\n",
    "                If a row or col move is > 2 it is diagonal\n",
    "                Function converts this to a tail move\n",
    "            \"\"\"\n",
    "            \n",
    "            if num_spaces > 1:\n",
    "                if 1-(num_spaces<0):    # num_spaces is positive\n",
    "                    return num_spaces -1\n",
    "                else:                   # num_spaces is negative\n",
    "                    return num_spaces + 1\n",
    "            else:\n",
    "                return num_spaces\n",
    "            \n",
    "        move = (check_diag_move(diagonal_delta[ROW]), check_diag_move(diagonal_delta[COL]))\n",
    "        \n",
    "    return move"
   ]
  },
  {
   "cell_type": "code",
   "execution_count": 41,
   "metadata": {},
   "outputs": [],
   "source": [
    "def make_move(\n",
    "    direction: str, count: str, head_position: MovePosition, tail_position: MovePosition\n",
    ") -> Tuple[MovePosition, MovePosition, List[MovePosition]]:\n",
    "    \"\"\"\n",
    "    Returns current head position, and list of positions tail has been in for this move\n",
    "    \"\"\"\n",
    "\n",
    "    count = int(count)\n",
    "\n",
    "    current_head_position : MovePosition = head_position\n",
    "    current_tail_position : MovePosition = tail_position\n",
    "    covered_positions : List = []\n",
    "\n",
    "    for idx in range(count):\n",
    "        start_pos : bool = current_head_position == STARTING_POSITION\n",
    "        move : MovePosition = generate_step_move(direction)\n",
    "        current_head_position = move_head(current_head_position, move)\n",
    "        if not start_pos:\n",
    "            print(\"Moving tail!\")\n",
    "            current_tail_position = move_tail(direction, current_head_position, current_tail_position)\n",
    "            covered_positions.append(current_tail_position)\n",
    "        print(f\"Head: {current_head_position}, Tail: {current_tail_position}\")\n",
    "        \n",
    "    return current_head_position, current_tail_position, covered_positions\n",
    "        "
   ]
  },
  {
   "cell_type": "code",
   "execution_count": 42,
   "metadata": {},
   "outputs": [],
   "source": [
    "# position_set.update(make_move(\"U\", 4, STARTING_POSITION, STARTING_POSITION)[2])"
   ]
  },
  {
   "cell_type": "code",
   "execution_count": 43,
   "metadata": {},
   "outputs": [
    {
     "name": "stdout",
     "output_type": "stream",
     "text": [
      "[0]\n",
      "Head: (0, 1), Tail: (0, 0)\n",
      "Moving tail!\n",
      "Delta: (0, -2)\n",
      "Orthogonal\n",
      "Head: (0, 2), Tail: (0, 1)\n",
      "Moving tail!\n",
      "Delta: (0, -2)\n",
      "Orthogonal\n",
      "Head: (0, 3), Tail: (0, 2)\n",
      "Moving tail!\n",
      "Delta: (0, -2)\n",
      "Orthogonal\n",
      "Head: (0, 4), Tail: (0, 3)\n",
      "[1]\n",
      "Moving tail!\n",
      "Delta: (-1, -1)\n",
      "Returning current\n",
      "Head: (1, 4), Tail: (0, 3)\n",
      "Moving tail!\n",
      "Delta: (-2, -1)\n",
      "Diagonal, no move\n",
      "Head: (2, 4), Tail: (0, 3)\n",
      "Moving tail!\n",
      "Delta: (-3, -1)\n",
      "Diagonal, no move\n",
      "Head: (3, 4), Tail: (0, 3)\n",
      "Moving tail!\n",
      "Delta: (-4, -1)\n",
      "Diagonal, no move\n",
      "Head: (4, 4), Tail: (0, 3)\n",
      "[2]\n",
      "Moving tail!\n",
      "Delta: (-4, 0)\n",
      "Diagonal, no move\n",
      "Head: (4, 3), Tail: (0, 3)\n",
      "Moving tail!\n",
      "Delta: (-4, 1)\n",
      "Diagonal, no move\n",
      "Head: (4, 2), Tail: (0, 3)\n",
      "Moving tail!\n",
      "Delta: (-4, 2)\n",
      "Diagonal, move\n",
      "Head: (4, 1), Tail: (-4, 4)\n",
      "[3]\n",
      "Moving tail!\n",
      "Delta: (-7, 3)\n",
      "Diagonal, move\n",
      "Head: (3, 1), Tail: (-11, 6)\n",
      "[4]\n",
      "Moving tail!\n",
      "Delta: (-14, 4)\n",
      "Diagonal, move\n",
      "Head: (3, 2), Tail: (-25, 9)\n",
      "Moving tail!\n",
      "Delta: (-28, 6)\n",
      "Diagonal, move\n",
      "Head: (3, 3), Tail: (-53, 14)\n",
      "Moving tail!\n",
      "Delta: (-56, 10)\n",
      "Diagonal, move\n",
      "Head: (3, 4), Tail: (-109, 23)\n",
      "Moving tail!\n",
      "Delta: (-112, 18)\n",
      "Diagonal, move\n",
      "Head: (3, 5), Tail: (-221, 40)\n",
      "[5]\n",
      "Moving tail!\n",
      "Delta: (-223, 35)\n",
      "Diagonal, move\n",
      "Head: (2, 5), Tail: (-444, 74)\n",
      "[6]\n",
      "Moving tail!\n",
      "Delta: (-446, 70)\n",
      "Diagonal, move\n",
      "Head: (2, 4), Tail: (-890, 143)\n",
      "Moving tail!\n",
      "Delta: (-892, 140)\n",
      "Diagonal, move\n",
      "Head: (2, 3), Tail: (-1782, 282)\n",
      "Moving tail!\n",
      "Delta: (-1784, 280)\n",
      "Diagonal, move\n",
      "Head: (2, 2), Tail: (-3566, 561)\n",
      "Moving tail!\n",
      "Delta: (-3568, 560)\n",
      "Diagonal, move\n",
      "Head: (2, 1), Tail: (-7134, 1120)\n",
      "Moving tail!\n",
      "Delta: (-7136, 1120)\n",
      "Diagonal, move\n",
      "Head: (2, 0), Tail: (-14270, 2239)\n",
      "[7]\n",
      "Moving tail!\n",
      "Delta: (-14272, 2238)\n",
      "Diagonal, move\n",
      "Head: (2, 1), Tail: (-28542, 4476)\n",
      "Moving tail!\n",
      "Delta: (-28544, 4474)\n",
      "Diagonal, move\n",
      "Head: (2, 2), Tail: (-57086, 8949)\n",
      "18\n"
     ]
    }
   ],
   "source": [
    "for idx, instruction in enumerate(instructions_input):\n",
    "\n",
    "    if idx == 0:\n",
    "        current_head_position, current_tail_position = (\n",
    "            STARTING_POSITION,\n",
    "            STARTING_POSITION,\n",
    "        )\n",
    "        \n",
    "    print(f\"[{idx}]\")\n",
    "\n",
    "\n",
    "    current_head_position, current_tail_position, covered_positions = make_move(\n",
    "        instruction[DIRECTION],\n",
    "        instruction[COUNT],\n",
    "        current_head_position,\n",
    "        current_tail_position,\n",
    "    )\n",
    "    \n",
    "    all_covered_positions.update(covered_positions)\n",
    "    \n",
    "    \n",
    "print(len(all_covered_positions))"
   ]
  },
  {
   "cell_type": "code",
   "execution_count": null,
   "metadata": {},
   "outputs": [],
   "source": []
  },
  {
   "cell_type": "code",
   "execution_count": null,
   "metadata": {},
   "outputs": [],
   "source": []
  }
 ],
 "metadata": {
  "kernelspec": {
   "display_name": "Python 3",
   "language": "python",
   "name": "python3"
  },
  "language_info": {
   "codemirror_mode": {
    "name": "ipython",
    "version": 3
   },
   "file_extension": ".py",
   "mimetype": "text/x-python",
   "name": "python",
   "nbconvert_exporter": "python",
   "pygments_lexer": "ipython3",
   "version": "3.10.8"
  },
  "orig_nbformat": 4,
  "vscode": {
   "interpreter": {
    "hash": "380323a40d1eaaa0af0732e2edbc99121fdac0cd8d9a24d8229a624083db011b"
   }
  }
 },
 "nbformat": 4,
 "nbformat_minor": 2
}
