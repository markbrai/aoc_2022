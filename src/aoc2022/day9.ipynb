{
 "cells": [
  {
   "attachments": {},
   "cell_type": "markdown",
   "metadata": {},
   "source": [
    "# Advent of Code 2022 - Day 9"
   ]
  },
  {
   "cell_type": "code",
   "execution_count": 20,
   "metadata": {},
   "outputs": [],
   "source": [
    "from pathlib import Path\n",
    "from typing import Final, List, Dict, Tuple, Set, Any, TypeAlias"
   ]
  },
  {
   "attachments": {},
   "cell_type": "markdown",
   "metadata": {},
   "source": [
    "## Part One\n",
    "\n",
    "- [X] Read input\n",
    "- [ ] Split each instruction to a Tuple of (Direction, Number)\n",
    "- [ ] Create a grid for the rope to move on?\n",
    "- [ ] Move Head\n",
    "- [ ] Compare Tail position to head and move accordingly\n",
    "- [ ] Mark position of tail on a boolean grid (True is tail has passed that space)\n",
    "- [ ] Count grid\n"
   ]
  },
  {
   "cell_type": "code",
   "execution_count": 21,
   "metadata": {},
   "outputs": [],
   "source": [
    "INPUT_NAME : str = \"day9_input_test.txt\"\n",
    "MovePosition : TypeAlias = Tuple[int, int]"
   ]
  },
  {
   "cell_type": "code",
   "execution_count": 8,
   "metadata": {},
   "outputs": [],
   "source": [
    "def read_input(input_name: str) -> List[str]:\n",
    "    input_path : Path = Path.cwd() / \"input\" / input_name\n",
    "\n",
    "    with open(input_path, \"r\") as input_file:\n",
    "\n",
    "        lines : List = input_file.readlines()\n",
    "\n",
    "    return [line.rstrip(\"\\n\") for line in lines]"
   ]
  },
  {
   "cell_type": "code",
   "execution_count": 9,
   "metadata": {},
   "outputs": [],
   "source": [
    "instructions_input : List[MovePosition]= [tuple(line.split(\" \")) for line in read_input(INPUT_NAME)]"
   ]
  },
  {
   "cell_type": "code",
   "execution_count": 11,
   "metadata": {},
   "outputs": [],
   "source": [
    "\n",
    "STARTING_POSITION : Final[MovePosition]= (0,0)\n",
    "STEP = 1"
   ]
  },
  {
   "cell_type": "code",
   "execution_count": 13,
   "metadata": {},
   "outputs": [],
   "source": [
    "covered_positions : List[MovePosition] = []"
   ]
  },
  {
   "cell_type": "code",
   "execution_count": 28,
   "metadata": {},
   "outputs": [],
   "source": [
    "def move_head(current_position: MovePosition, move: MovePosition) -> MovePosition:\n",
    "    \"\"\"\n",
    "    Co-ordinates are relative to start (0,0), as (row, col)\n",
    "    \"\"\"\n",
    "    ROW = 0\n",
    "    COL = 1\n",
    "    \n",
    "    return (current_position[ROW] + move[ROW], current_position[COL] + move[COL])\n",
    "    "
   ]
  },
  {
   "cell_type": "code",
   "execution_count": 35,
   "metadata": {},
   "outputs": [],
   "source": [
    "def move_tail(head_position: MovePosition, current_position: MovePosition) -> MovePosition:\n",
    "    \n",
    "    "
   ]
  },
  {
   "cell_type": "code",
   "execution_count": 38,
   "metadata": {},
   "outputs": [],
   "source": [
    "def make_move(\n",
    "    direction: str, count: str, head_position: MovePosition, tail_position: MovePosition\n",
    ") -> Tuple[MovePosition, List[MovePosition]]:\n",
    "    \"\"\"\n",
    "    Returns current head position, and list of positions tail has been in for this move\n",
    "    \"\"\"\n",
    "\n",
    "    count = int(count)\n",
    "\n",
    "    step = -1 if direction in [\"L\", \"D\"] else 1\n",
    "    \n",
    "    current_head_position = head_position\n",
    "    current_tail_position = tail_position\n",
    "    covered_positions = []\n",
    "\n",
    "    for idx in range(count):\n",
    "        if direction in [\"L\", \"R\"]:\n",
    "            move : MovePosition = (0, step)\n",
    "        elif direction in [\"U\", \"D\"]:\n",
    "            move = (step, 0)\n",
    "        current_head_position = move_head(current_head_position, move)\n",
    "        current_tail_position = move_tail(current_head_position, current_tail_position)\n",
    "        \n",
    "    return current_head_position\n",
    "        "
   ]
  },
  {
   "cell_type": "code",
   "execution_count": null,
   "metadata": {},
   "outputs": [],
   "source": []
  }
 ],
 "metadata": {
  "kernelspec": {
   "display_name": "Python 3",
   "language": "python",
   "name": "python3"
  },
  "language_info": {
   "codemirror_mode": {
    "name": "ipython",
    "version": 3
   },
   "file_extension": ".py",
   "mimetype": "text/x-python",
   "name": "python",
   "nbconvert_exporter": "python",
   "pygments_lexer": "ipython3",
   "version": "3.10.8"
  },
  "orig_nbformat": 4,
  "vscode": {
   "interpreter": {
    "hash": "380323a40d1eaaa0af0732e2edbc99121fdac0cd8d9a24d8229a624083db011b"
   }
  }
 },
 "nbformat": 4,
 "nbformat_minor": 2
}
