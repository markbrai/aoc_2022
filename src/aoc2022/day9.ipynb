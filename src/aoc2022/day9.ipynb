{
 "cells": [
  {
   "attachments": {},
   "cell_type": "markdown",
   "metadata": {},
   "source": [
    "# Advent of Code 2022 - Day 9"
   ]
  },
  {
   "cell_type": "code",
   "execution_count": 20,
   "metadata": {},
   "outputs": [],
   "source": [
    "from pathlib import Path\n",
    "from typing import Final, List, Dict, Tuple, Set, Any, TypeAlias"
   ]
  },
  {
   "attachments": {},
   "cell_type": "markdown",
   "metadata": {},
   "source": [
    "## Part One\n",
    "\n",
    "- [X] Read input\n",
    "- [ ] Split each instruction to a Tuple of (Direction, Number)\n",
    "- [ ] Create a grid for the rope to move on?\n",
    "- [ ] Move Head\n",
    "- [ ] Compare Tail position to head and move accordingly\n",
    "- [ ] Mark position of tail on a boolean grid (True is tail has passed that space)\n",
    "- [ ] Count grid\n"
   ]
  },
  {
   "cell_type": "code",
   "execution_count": 21,
   "metadata": {},
   "outputs": [],
   "source": [
    "INPUT_NAME : str = \"day9_input_test.txt\"\n",
    "MovePosition : TypeAlias = Tuple[int, int]"
   ]
  },
  {
   "cell_type": "code",
   "execution_count": 8,
   "metadata": {},
   "outputs": [],
   "source": [
    "def read_input(input_name: str) -> List[str]:\n",
    "    input_path : Path = Path.cwd() / \"input\" / input_name\n",
    "\n",
    "    with open(input_path, \"r\") as input_file:\n",
    "\n",
    "        lines : List = input_file.readlines()\n",
    "\n",
    "    return [line.rstrip(\"\\n\") for line in lines]"
   ]
  },
  {
   "cell_type": "code",
   "execution_count": 9,
   "metadata": {},
   "outputs": [],
   "source": [
    "instructions_input : List[MovePosition]= [tuple(line.split(\" \")) for line in read_input(INPUT_NAME)]"
   ]
  },
  {
   "cell_type": "code",
   "execution_count": 40,
   "metadata": {},
   "outputs": [],
   "source": [
    "\n",
    "STARTING_POSITION : Final[MovePosition]= (0,0)\n",
    "STEP = 1\n",
    "ROW = 0\n",
    "COL = 1"
   ]
  },
  {
   "cell_type": "code",
   "execution_count": 13,
   "metadata": {},
   "outputs": [],
   "source": [
    "covered_positions : List[MovePosition] = []"
   ]
  },
  {
   "cell_type": "code",
   "execution_count": 47,
   "metadata": {},
   "outputs": [],
   "source": [
    "def make_step_move(current_position: MovePosition, move: MovePosition, is_tail: bool = False) -> MovePosition:\n",
    "    \"\"\"\n",
    "    Co-ordinates are relative to start (0,0), as (row, col)\n",
    "    \"\"\"  \n",
    "    \n",
    "    return (current_position[ROW] + move[ROW], current_position[COL] + move[COL])\n",
    "    "
   ]
  },
  {
   "cell_type": "code",
   "execution_count": 48,
   "metadata": {},
   "outputs": [],
   "source": [
    "def move_head(current_position: MovePosition, move: MovePosition) -> MovePosition:\n",
    "    \n",
    "    return make_step_move(current_position, move)"
   ]
  },
  {
   "cell_type": "code",
   "execution_count": 49,
   "metadata": {},
   "outputs": [],
   "source": [
    "def move_tail(direction: str, head_position: MovePosition, current_position: MovePosition) -> MovePosition:\n",
    "    \"\"\"\n",
    "    Delta position: -ve means below or to the left of head\n",
    "    \"\"\"\n",
    "    \n",
    "    delta_position = (current_position[ROW]-head_position[ROW], current_position[COL]-head_position[COL])\n",
    "    \n",
    "    # Check if in same row/col (else diagonal move)\n",
    "    # Both checks will be false if diagonal move required\n",
    "    if delta_position[ROW] == head_position[ROW] or delta_position[COL] == head_position[COL]:\n",
    "        # Move orthogonally\n",
    "        move = generate_step_move(direction)\n",
    "        return make_step_move(current_position, move)\n",
    "    else:\n",
    "        # Move diagonally\n",
    "        ...\n",
    "    "
   ]
  },
  {
   "cell_type": "code",
   "execution_count": 50,
   "metadata": {},
   "outputs": [],
   "source": [
    "def generate_step_move(direction: str) -> MovePosition:\n",
    "    \n",
    "    step = -1 if direction in [\"L\", \"D\"] else 1\n",
    "    \n",
    "    if direction in [\"L\", \"R\"]:\n",
    "        move : MovePosition = (0, step)\n",
    "    elif direction in [\"U\", \"D\"]:\n",
    "        move = (step, 0)\n",
    "        \n",
    "    return move"
   ]
  },
  {
   "cell_type": "code",
   "execution_count": 53,
   "metadata": {},
   "outputs": [],
   "source": [
    "def make_move(\n",
    "    direction: str, count: str, head_position: MovePosition, tail_position: MovePosition\n",
    ") -> Tuple[MovePosition, List[MovePosition]]:\n",
    "    \"\"\"\n",
    "    Returns current head position, and list of positions tail has been in for this move\n",
    "    \"\"\"\n",
    "\n",
    "    count = int(count)\n",
    "\n",
    "    current_head_position = head_position\n",
    "    current_tail_position = tail_position\n",
    "    covered_positions = []\n",
    "\n",
    "    for idx in range(count):\n",
    "        move = generate_step_move(direction)\n",
    "        current_head_position = move_head(current_head_position, move)\n",
    "        # current_tail_position = move_tail(direction, current_head_position, current_tail_position)\n",
    "        \n",
    "    return current_head_position\n",
    "        "
   ]
  },
  {
   "cell_type": "code",
   "execution_count": null,
   "metadata": {},
   "outputs": [],
   "source": []
  }
 ],
 "metadata": {
  "kernelspec": {
   "display_name": "Python 3",
   "language": "python",
   "name": "python3"
  },
  "language_info": {
   "codemirror_mode": {
    "name": "ipython",
    "version": 3
   },
   "file_extension": ".py",
   "mimetype": "text/x-python",
   "name": "python",
   "nbconvert_exporter": "python",
   "pygments_lexer": "ipython3",
   "version": "3.10.8"
  },
  "orig_nbformat": 4,
  "vscode": {
   "interpreter": {
    "hash": "380323a40d1eaaa0af0732e2edbc99121fdac0cd8d9a24d8229a624083db011b"
   }
  }
 },
 "nbformat": 4,
 "nbformat_minor": 2
}
