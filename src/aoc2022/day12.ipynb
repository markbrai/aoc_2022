{
 "cells": [
  {
   "attachments": {},
   "cell_type": "markdown",
   "metadata": {},
   "source": [
    "# Advent of Code 2022 - Day 12"
   ]
  },
  {
   "attachments": {},
   "cell_type": "markdown",
   "metadata": {},
   "source": [
    "## Part One\n",
    "\n",
    "Some form of path finding algorithm is required I think, such as:\n",
    "\n",
    "- (https://medium.com/@nicholas.w.swift/easy-a-star-pathfinding-7e6689c7f7b2)[https://medium.com/@nicholas.w.swift/easy-a-star-pathfinding-7e6689c7f7b2]\n",
    "- (https://gist.github.com/ryancollingwood/32446307e976a11a1185a5394d6657bc)[https://gist.github.com/ryancollingwood/32446307e976a11a1185a5394d6657bc]\n"
   ]
  },
  {
   "cell_type": "code",
   "execution_count": 1,
   "metadata": {},
   "outputs": [],
   "source": [
    "from pathlib import Path\n",
    "import numpy as np\n",
    "import heapq\n",
    "from typing import List, Dict, Set, Tuple, Any\n",
    "from warnings import warn"
   ]
  },
  {
   "cell_type": "code",
   "execution_count": 2,
   "metadata": {},
   "outputs": [],
   "source": [
    "INPUT_FILE = \"day12_input_example.txt\"\n"
   ]
  },
  {
   "attachments": {},
   "cell_type": "markdown",
   "metadata": {},
   "source": [
    "Read the input in to a matrix"
   ]
  },
  {
   "cell_type": "code",
   "execution_count": 3,
   "metadata": {},
   "outputs": [],
   "source": [
    "def read_input(input_name: str) -> List[str]:\n",
    "    input_path = Path.cwd() / \"input\" / input_name\n",
    "\n",
    "    with open(input_path, \"r\") as input_file:\n",
    "\n",
    "        lines = input_file.readlines()\n",
    "\n",
    "    return [line.rstrip(\"\\n\") for line in lines]\n",
    "\n",
    "\n",
    "def str_to_str_list(line: str) -> List[int]:\n",
    "\n",
    "    return [char for char in line]\n",
    "\n",
    "\n",
    "def input_to_matrix(line_list: List[str]) -> List[List[int]]:\n",
    "\n",
    "    list_matrix = [str_to_str_list(line) for line in line_list]\n",
    "\n",
    "    return np.matrix(list_matrix)"
   ]
  },
  {
   "cell_type": "code",
   "execution_count": 4,
   "metadata": {},
   "outputs": [
    {
     "data": {
      "text/plain": [
       "matrix([['S', 'a', 'b', 'q', 'p', 'o', 'n', 'm'],\n",
       "        ['a', 'b', 'c', 'r', 'y', 'x', 'x', 'l'],\n",
       "        ['a', 'c', 'c', 's', 'z', 'E', 'x', 'k'],\n",
       "        ['a', 'c', 'c', 't', 'u', 'v', 'w', 'j'],\n",
       "        ['a', 'b', 'd', 'e', 'f', 'g', 'h', 'i']], dtype='<U1')"
      ]
     },
     "execution_count": 4,
     "metadata": {},
     "output_type": "execute_result"
    }
   ],
   "source": [
    "height_matrix = input_to_matrix(read_input(INPUT_FILE))\n",
    "height_matrix\n"
   ]
  },
  {
   "attachments": {},
   "cell_type": "markdown",
   "metadata": {},
   "source": [
    "Create a Node Class"
   ]
  },
  {
   "cell_type": "code",
   "execution_count": 5,
   "metadata": {},
   "outputs": [],
   "source": [
    "class Node:\n",
    "    def __init__(self, letter: str, parent=None, position=None) -> None:\n",
    "        self.letter = letter\n",
    "        self.parent = parent\n",
    "        self.position = position\n",
    "\n",
    "        self.g = 0\n",
    "        self.h = 0\n",
    "        self.f = 0\n",
    "\n",
    "    def __eq__(self, other):\n",
    "        return self.position == other.position\n",
    "\n",
    "    def __repr__(self):\n",
    "        return f\"{self.position} - g: {self.g} h: {self.h} f: {self.f}\"\n",
    "\n",
    "    # defining less than for purposes of heap queue\n",
    "    def __lt__(self, other):\n",
    "        return self.f < other.f\n",
    "\n",
    "    # defining greater than for purposes of heap queue\n",
    "    def __gt__(self, other):\n",
    "        return self.f > other.f"
   ]
  },
  {
   "attachments": {},
   "cell_type": "markdown",
   "metadata": {},
   "source": [
    "Create the A* algorithm"
   ]
  },
  {
   "cell_type": "code",
   "execution_count": 6,
   "metadata": {},
   "outputs": [],
   "source": [
    "def return_path(current_node):\n",
    "    path = []\n",
    "    current = current_node\n",
    "    while current is not None:\n",
    "        path.append(current.position)\n",
    "        current = current.parent\n",
    "    return path[::-1]   # Return a reversed path"
   ]
  },
  {
   "cell_type": "code",
   "execution_count": 7,
   "metadata": {},
   "outputs": [],
   "source": [
    "def astar(\n",
    "    maze: np.matrix,\n",
    "    start: Tuple[int, int],\n",
    "    end: Tuple[int, int],\n",
    ") -> List[Tuple[int, int]]:\n",
    "\n",
    "    # Create start and end nodes\n",
    "    start_node = Node(\"S\", None, start)\n",
    "    start_node.g = start_node.h = start_node.f = 0\n",
    "    end_node = Node(\"E\", None, end)\n",
    "    end_node.g = end_node.h = end_node.f = 0\n",
    "\n",
    "    # Initialise the open and closed lists\n",
    "    open_list = []\n",
    "    closed_list = []\n",
    "\n",
    "    # Heapify the open_list and Add the start node\n",
    "    heapq.heapify(open_list)\n",
    "    heapq.heappush(open_list, start_node)\n",
    "\n",
    "    # Add a stop condition\n",
    "    outer_iterations = 0\n",
    "    max_iterations = (maze.shape[0] * maze.shape[1]) // 2\n",
    "\n",
    "    # What squares do we search\n",
    "    adjacent_squares = (\n",
    "        (0, -1),\n",
    "        (0, 1),\n",
    "        (-1, 0),\n",
    "        (1, 0),\n",
    "    )\n",
    "\n",
    "    # Loop until we find the end\n",
    "    while len(open_list) > 0:\n",
    "        outer_iterations += 1\n",
    "\n",
    "        current_node: Node\n",
    "\n",
    "        if outer_iterations > max_iterations:\n",
    "            # if we hit this point return the path such as it is\n",
    "            # it will not contain the destination\n",
    "            warn(\"giving up on pathfinding too many iterations\")\n",
    "            return return_path(current_node)\n",
    "\n",
    "        # Get the current node\n",
    "        current_node = heapq.heappop(\n",
    "            open_list\n",
    "        )  # Pops the smallest item == highest priority\n",
    "        closed_list.append(current_node)\n",
    "\n",
    "        # Found the goal!\n",
    "        if current_node == end_node:\n",
    "            print(\"success!\")\n",
    "            return return_path(current_node)\n",
    "\n",
    "        # Generate children\n",
    "        children = []\n",
    "\n",
    "        for (\n",
    "            new_position\n",
    "        ) in adjacent_squares:  # Cycle through adjacent squares to current\n",
    "\n",
    "            # Get Node Position (offset current by the adjacent square relative position)\n",
    "            node_position = (\n",
    "                current_node.position[0] + new_position[0],\n",
    "                current_node.position[1] + new_position[1],\n",
    "            )\n",
    "\n",
    "            # Make sure it's in range\n",
    "            if (\n",
    "                node_position[0] > (maze.shape[0] - 1)\n",
    "                or node_position[0] < 0\n",
    "                or node_position[1] > (maze.shape[1] - 1)\n",
    "                or node_position[1] < 0\n",
    "            ):\n",
    "                print(f\"{node_position}\")\n",
    "                \n",
    "                print(\"Not in range\")\n",
    "                continue\n",
    "\n",
    "            # Make sure terrain is climable (letter is at most 1 higher than current, lower is ok)\n",
    "            node_letter = maze[node_position[0],node_position[1]]\n",
    "            if (\n",
    "                node_position != start_node.position\n",
    "                and ord(node_letter) >= ord(current_node.letter) + 2\n",
    "            ):\n",
    "                # print(\"Can't climb\")\n",
    "                continue\n",
    "\n",
    "            # Create a new node\n",
    "            new_node = Node(node_letter, current_node, node_position)\n",
    "\n",
    "            # Append\n",
    "            children.append(\n",
    "                new_node\n",
    "            )  # This is a list of all possible positions from current\n",
    "\n",
    "        child: Node\n",
    "        for child in children:\n",
    "            # Check if Child is on the closed list\n",
    "            if (\n",
    "                len(\n",
    "                    [\n",
    "                        closed_child\n",
    "                        for closed_child in closed_list\n",
    "                        if closed_child == child\n",
    "                    ]\n",
    "                )\n",
    "                > 0\n",
    "            ):\n",
    "                continue\n",
    "\n",
    "            # Create the f, g, and h values\n",
    "            child.g = current_node.g + 1\n",
    "            child.h = ((child.position[0] - end_node.position[0]) ** 2) + (\n",
    "                (child.position[1] - end_node.position[0]) ** 1\n",
    "            )  # a^2 = b^2 + c^2\n",
    "            child.f = child.g + child.h\n",
    "            \n",
    "            # Check if child is on the open list\n",
    "            if len([open_node for open_node in open_list if child.position == open_node.position and child.g > open_node.g]) > 0:\n",
    "                continue\n",
    "\n",
    "            # Add the child to the open list\n",
    "            heapq.heappush(open_list, child)\n",
    "            \n",
    "    warn(\"Couldn't get a path to destination\")\n",
    "    return None"
   ]
  },
  {
   "attachments": {},
   "cell_type": "markdown",
   "metadata": {},
   "source": [
    "Let's try it..."
   ]
  },
  {
   "cell_type": "code",
   "execution_count": 8,
   "metadata": {},
   "outputs": [],
   "source": [
    "maze = height_matrix\n",
    "start = (0,0)\n",
    "\n",
    "def find_end(maze: np.matrix) -> str:\n",
    "    \n",
    "    for row in range(0,height_matrix.shape[0]):\n",
    "        for col in range(0, height_matrix.shape[1]):\n",
    "            if height_matrix[row,col] == \"E\":\n",
    "                return (row, col)\n",
    "            \n",
    "end = find_end(height_matrix)"
   ]
  },
  {
   "cell_type": "code",
   "execution_count": 9,
   "metadata": {},
   "outputs": [
    {
     "name": "stdout",
     "output_type": "stream",
     "text": [
      "(0, -1)\n",
      "Not in range\n",
      "(-1, 0)\n",
      "Not in range\n"
     ]
    },
    {
     "name": "stderr",
     "output_type": "stream",
     "text": [
      "C:\\Users\\mb28\\AppData\\Local\\Temp\\ipykernel_25908\\3048753069.py:127: UserWarning: Couldn't get a path to destination\n",
      "  warn(\"Couldn't get a path to destination\")\n"
     ]
    }
   ],
   "source": [
    "path = astar(maze, start, end)"
   ]
  },
  {
   "cell_type": "code",
   "execution_count": null,
   "metadata": {},
   "outputs": [],
   "source": []
  },
  {
   "cell_type": "code",
   "execution_count": null,
   "metadata": {},
   "outputs": [],
   "source": []
  }
 ],
 "metadata": {
  "kernelspec": {
   "display_name": "Python 3",
   "language": "python",
   "name": "python3"
  },
  "language_info": {
   "codemirror_mode": {
    "name": "ipython",
    "version": 3
   },
   "file_extension": ".py",
   "mimetype": "text/x-python",
   "name": "python",
   "nbconvert_exporter": "python",
   "pygments_lexer": "ipython3",
   "version": "3.10.8"
  },
  "orig_nbformat": 4,
  "vscode": {
   "interpreter": {
    "hash": "380323a40d1eaaa0af0732e2edbc99121fdac0cd8d9a24d8229a624083db011b"
   }
  }
 },
 "nbformat": 4,
 "nbformat_minor": 2
}
